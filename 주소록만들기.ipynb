{
 "cells": [
  {
   "cell_type": "code",
   "execution_count": null,
   "metadata": {},
   "outputs": [],
   "source": [
    "# Class를 이용해서 주소록 만들기\n",
    "\n",
    "# Class -> \"Person\"\n",
    "\n",
    "# 속성 -> 이름,나이,주소 -> 변수\n",
    "\n",
    "# 메소드 -> 공부(),식사() -> 함수\n",
    "\n",
    "# 속성과 메소드는 객체 인스턴스라고 한다"
   ]
  },
  {
   "cell_type": "code",
   "execution_count": 13,
   "metadata": {},
   "outputs": [
    {
     "name": "stdout",
     "output_type": "stream",
     "text": [
      "0 0\n",
      "100 1 5\n",
      "100 0\n"
     ]
    }
   ],
   "source": [
    "class my_class:\n",
    "    x=0\n",
    "    y=0\n",
    "    def move_to(self,x,y):\n",
    "        self.x+=x\n",
    "        self.y+=y\n",
    "        \n",
    "obj = my_class()\n",
    "print(obj.x,obj.y) # 여기서 x,y는 인스턴스 변수\n",
    "obj.move_to(1,5)\n",
    "my_class.x = 100 # my_class.x 클래스 변수 되도록이면 사용하지 않는게 좋다.\n",
    "#사용하는 순간 인스턴스 변수가 클래스 변수로 사용된다. 햇깔려서 쓰지말라는거임\n",
    "print(my_class.x,obj.x,obj.y)\n",
    "obj2 = my_class()\n",
    "print(obj2.x,obj2.y)"
   ]
  },
  {
   "cell_type": "code",
   "execution_count": 15,
   "metadata": {},
   "outputs": [
    {
     "name": "stdout",
     "output_type": "stream",
     "text": [
      "10\n"
     ]
    }
   ],
   "source": [
    "class A:\n",
    "    def func1(self,a):\n",
    "        self.a=a\n",
    "        \n",
    "        \n",
    "a = A() #변수 a를 만들어주고\n",
    "a.func1(10) #func1\n",
    "print(a.a)"
   ]
  },
  {
   "cell_type": "code",
   "execution_count": 20,
   "metadata": {},
   "outputs": [
    {
     "name": "stdout",
     "output_type": "stream",
     "text": [
      "<__main__.myclass object at 0x0000027ADAA494E0>\n"
     ]
    }
   ],
   "source": [
    "class myclass:\n",
    "    def __init__(self,x,y): # 생성자 , 생성자를 만들지 않으면 기본생성자를 만든다.\n",
    "        self.x = x\n",
    "        self.y = y\n",
    "    def move(self,x,y):\n",
    "        self.x+=x\n",
    "        self.y+=y\n",
    "    def setvalues(self,x,y):\n",
    "        self.x=x\n",
    "        self.y=y\n",
    "        \n",
    "a=myclass(0,0)\n",
    "b=myclass(-1,1)\n"
   ]
  },
  {
   "cell_type": "code",
   "execution_count": null,
   "metadata": {},
   "outputs": [],
   "source": []
  },
  {
   "cell_type": "code",
   "execution_count": null,
   "metadata": {},
   "outputs": [],
   "source": []
  },
  {
   "cell_type": "code",
   "execution_count": null,
   "metadata": {},
   "outputs": [],
   "source": []
  },
  {
   "cell_type": "code",
   "execution_count": null,
   "metadata": {},
   "outputs": [],
   "source": []
  },
  {
   "cell_type": "code",
   "execution_count": null,
   "metadata": {},
   "outputs": [],
   "source": []
  },
  {
   "cell_type": "code",
   "execution_count": null,
   "metadata": {},
   "outputs": [],
   "source": []
  },
  {
   "cell_type": "code",
   "execution_count": null,
   "metadata": {},
   "outputs": [],
   "source": []
  }
 ],
 "metadata": {
  "kernelspec": {
   "display_name": "Python 3",
   "language": "python",
   "name": "python3"
  },
  "language_info": {
   "codemirror_mode": {
    "name": "ipython",
    "version": 3
   },
   "file_extension": ".py",
   "mimetype": "text/x-python",
   "name": "python",
   "nbconvert_exporter": "python",
   "pygments_lexer": "ipython3",
   "version": "3.6.8"
  }
 },
 "nbformat": 4,
 "nbformat_minor": 2
}
