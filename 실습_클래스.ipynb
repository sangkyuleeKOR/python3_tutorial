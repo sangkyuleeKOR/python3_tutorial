{
 "cells": [
  {
   "cell_type": "code",
   "execution_count": 37,
   "metadata": {},
   "outputs": [
    {
     "name": "stdout",
     "output_type": "stream",
     "text": [
      "Balacne's not enough to withdraw\n",
      "현재잔액은11000입니다\n",
      "현재잔액은10입니다\n"
     ]
    }
   ],
   "source": [
    "class CoinBank:\n",
    "    def __init__(self,money=10):\n",
    "        self.balance = money\n",
    "    def put(self,money):\n",
    "        self.balance +=money\n",
    "    def get(self,money):\n",
    "        if self.balance>=money:\n",
    "            self.balance -=money\n",
    "            return money\n",
    "        else:\n",
    "            print(\"Balacne's not enough to withdraw\")\n",
    "            return -1\n",
    "    def show(self):\n",
    "        print('현재잔액은{}입니다'.format(self.balance))\n",
    "\n",
    "        \n",
    "a = CoinBank(10000)\n",
    "b = CoinBank()\n",
    "a.put(1000)\n",
    "a.get(1000000)\n",
    "a.show()\n",
    "b.show()"
   ]
  },
  {
   "cell_type": "code",
   "execution_count": 49,
   "metadata": {},
   "outputs": [],
   "source": [
    "class CoinBank:\n",
    "    __Balance = 0 # -> '__' private 변수로 만들어준다(상속이 안된다.) ,  '_' protected -> protected변수로 만들어준다.(상속이 된다.)\n",
    "    def put(self,money):\n",
    "        self.balance +=money\n",
    "        \n",
    "obj = CoinBank()\n",
    "obj.balance = 10\n"
   ]
  },
  {
   "cell_type": "code",
   "execution_count": 63,
   "metadata": {},
   "outputs": [
    {
     "name": "stdout",
     "output_type": "stream",
     "text": [
      "Vehicle 생성자 실행\n",
      "Vehicle 생성자 실행\n",
      "Vehicle 생성자 실행\n",
      "Vehicle 앞으로 가다\n",
      "Car 앞으로 가다\n",
      "Airplane 앞으로 가다\n"
     ]
    }
   ],
   "source": [
    "####### 상속에 대한 설명\n",
    "class vehicle:\n",
    "    fuel = 100\n",
    "    def __init__(self,old = 2000):\n",
    "        self.old = old\n",
    "        print(\"Vehicle 생성자 실행\")\n",
    "    def go_forward(self):\n",
    "        print(\"Vehicle 앞으로 가다\")\n",
    "class airplane(vehicle):\n",
    "    def fly(self):\n",
    "        print(\"Airplace 날기\")\n",
    "    def go_forward(self):\n",
    "        print(\"Airplane 앞으로 가다\")\n",
    "class Car(vehicle):\n",
    "    def go_forward(self):\n",
    "        print(\"Car 앞으로 가다\")\n",
    "    def stop(self):\n",
    "        print(\"Car 멈추다\")\n",
    "\n",
    "vlist = [vehicle(),Car(), airplane()]\n",
    "for v in vlist:\n",
    "    v.go_forward()"
   ]
  },
  {
   "cell_type": "code",
   "execution_count": null,
   "metadata": {},
   "outputs": [],
   "source": []
  },
  {
   "cell_type": "code",
   "execution_count": null,
   "metadata": {},
   "outputs": [],
   "source": []
  },
  {
   "cell_type": "code",
   "execution_count": null,
   "metadata": {},
   "outputs": [],
   "source": []
  },
  {
   "cell_type": "code",
   "execution_count": null,
   "metadata": {},
   "outputs": [],
   "source": []
  },
  {
   "cell_type": "code",
   "execution_count": null,
   "metadata": {},
   "outputs": [],
   "source": []
  }
 ],
 "metadata": {
  "kernelspec": {
   "display_name": "Python 3",
   "language": "python",
   "name": "python3"
  },
  "language_info": {
   "codemirror_mode": {
    "name": "ipython",
    "version": 3
   },
   "file_extension": ".py",
   "mimetype": "text/x-python",
   "name": "python",
   "nbconvert_exporter": "python",
   "pygments_lexer": "ipython3",
   "version": "3.6.8"
  }
 },
 "nbformat": 4,
 "nbformat_minor": 2
}
