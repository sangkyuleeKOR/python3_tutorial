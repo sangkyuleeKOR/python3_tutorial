{
 "cells": [
  {
   "cell_type": "code",
   "execution_count": 23,
   "metadata": {},
   "outputs": [
    {
     "name": "stdout",
     "output_type": "stream",
     "text": [
      "[False  True  True  True  True False  True  True  True False  True  True\n",
      "  True  True  True  True  True  True False  True  True  True  True  True\n",
      "  True False False False False  True  True  True  True  True  True  True\n",
      "  True  True  True  True  True  True  True  True False  True  True False\n",
      "  True  True  True  True  True False  True  True  True False  True  True\n",
      "  True False  True  True  True  True  True  True  True False  True  True\n",
      "  True  True  True  True  True  True  True False  True  True False  True\n",
      "  True  True  True  True  True  True  True  True  True False False  True\n",
      "  True  True  True  True]\n",
      "82\n"
     ]
    }
   ],
   "source": [
    "# 크기가 100이고 값이 모두 False인 리스트를 만들고 리스트의 각 값이 0.8의 확률로 True로 바꾸기\n",
    "\n",
    "# 가장긴 True의 연속 개수 출력\n",
    "import numpy as np\n",
    "import random\n",
    "list1 = np.full(100,False)\n",
    "\n",
    "\n",
    "cursize = 0\n",
    "maxsize = 0\n",
    "\n",
    "for i in range(100):\n",
    "    if(random.random()<0.8):\n",
    "        list1[i] = True\n",
    "print(list1)\n",
    "for val in list1:\n",
    "    if val:\n",
    "        cursize+=1\n",
    "    else:\n",
    "        if cursize>maxsize:\n",
    "            maxsize = cursize\n",
    "        cuarsize = 0\n",
    "if cursize>maxsize:\n",
    "    maxsize = cursize\n",
    "        \n",
    "print(maxsize)\n",
    "\n"
   ]
  },
  {
   "cell_type": "code",
   "execution_count": null,
   "metadata": {},
   "outputs": [],
   "source": [
    "# comprehension\n",
    "\n",
    "a = [i for i in range(20) if i%2==0]\n",
    "print(a)"
   ]
  },
  {
   "cell_type": "code",
   "execution_count": null,
   "metadata": {},
   "outputs": [],
   "source": [
    "# comprehension\n",
    "\n",
    "a = [i if i%2==0 else i*2 for i in range(20) ]\n",
    "print(a)"
   ]
  },
  {
   "cell_type": "code",
   "execution_count": null,
   "metadata": {},
   "outputs": [],
   "source": [
    "import random\n",
    "list1 = [False] * 100\n",
    "for i in range(len(list1)):\n",
    "    if random.random()<0.8:\n",
    "        list1[i] = True\n",
    "print(list1)"
   ]
  },
  {
   "cell_type": "code",
   "execution_count": null,
   "metadata": {},
   "outputs": [],
   "source": [
    "list2 = [True if random.random()<0.8 else False for i in range(20)]\n",
    "print(list2)"
   ]
  },
  {
   "cell_type": "code",
   "execution_count": null,
   "metadata": {},
   "outputs": [],
   "source": [
    "# 크기가 100이고 값이 모두 False인 리스트를 만들고 리스트의 각 값이 0.8의 확률로 True로 바꾸기\n",
    "\n",
    "# 가장긴 True의 연속 개수 출력\n",
    "import numpy as np\n",
    "import random\n",
    "list1 = np.full(100,False)\n",
    "\n",
    "\n",
    "cursize = 0\n",
    "maxsize = 0\n",
    "\n",
    "for i in range(100):\n",
    "    if(random.random()<0.8):\n",
    "        list1[i] = True\n",
    "print(list1)\n",
    "for val in list1:\n",
    "    if val:\n",
    "        cursize+=1\n",
    "    else:\n",
    "        if cursize>maxsize:\n",
    "            maxsize = cursize\n",
    "        cuarsize = 0\n",
    "if cursize>maxsize:\n",
    "    maxsize = cursize\n",
    "        \n",
    "print(maxsize)\n",
    "\n"
   ]
  },
  {
   "cell_type": "code",
   "execution_count": null,
   "metadata": {},
   "outputs": [],
   "source": []
  },
  {
   "cell_type": "code",
   "execution_count": null,
   "metadata": {},
   "outputs": [],
   "source": []
  },
  {
   "cell_type": "code",
   "execution_count": null,
   "metadata": {},
   "outputs": [],
   "source": []
  },
  {
   "cell_type": "code",
   "execution_count": null,
   "metadata": {},
   "outputs": [],
   "source": []
  },
  {
   "cell_type": "code",
   "execution_count": null,
   "metadata": {},
   "outputs": [],
   "source": []
  },
  {
   "cell_type": "code",
   "execution_count": null,
   "metadata": {},
   "outputs": [],
   "source": []
  },
  {
   "cell_type": "code",
   "execution_count": null,
   "metadata": {},
   "outputs": [],
   "source": []
  },
  {
   "cell_type": "code",
   "execution_count": null,
   "metadata": {},
   "outputs": [],
   "source": []
  },
  {
   "cell_type": "code",
   "execution_count": null,
   "metadata": {},
   "outputs": [],
   "source": []
  },
  {
   "cell_type": "code",
   "execution_count": null,
   "metadata": {},
   "outputs": [],
   "source": []
  },
  {
   "cell_type": "code",
   "execution_count": null,
   "metadata": {},
   "outputs": [],
   "source": []
  }
 ],
 "metadata": {
  "kernelspec": {
   "display_name": "Python 3",
   "language": "python",
   "name": "python3"
  },
  "language_info": {
   "codemirror_mode": {
    "name": "ipython",
    "version": 3
   },
   "file_extension": ".py",
   "mimetype": "text/x-python",
   "name": "python",
   "nbconvert_exporter": "python",
   "pygments_lexer": "ipython3",
   "version": "3.6.8"
  }
 },
 "nbformat": 4,
 "nbformat_minor": 2
}
