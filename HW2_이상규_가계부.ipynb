{
 "cells": [
  {
   "cell_type": "code",
   "execution_count": 1,
   "metadata": {},
   "outputs": [
    {
     "name": "stdout",
     "output_type": "stream",
     "text": [
      "현재잔액은 1000000입니다\n",
      "원하는 작업 번호를 입력하세요(지출:1, 수입:2, 내역보기:3, 종료:q)1\n",
      "지출 내역:컴퓨터\n",
      "지출 금액:500000\n",
      "========================\n",
      "현재잔액은 500000입니다\n",
      "원하는 작업 번호를 입력하세요(지출:1, 수입:2, 내역보기:3, 종료:q)1\n",
      "지출 내역:커피\n",
      "지출 금액:5000\n",
      "========================\n",
      "현재잔액은 495000입니다\n",
      "원하는 작업 번호를 입력하세요(지출:1, 수입:2, 내역보기:3, 종료:q)2\n",
      "수입 내역알바\n",
      "수입 금액50000\n",
      "========================\n",
      "현재잔액은 545000입니다\n",
      "원하는 작업 번호를 입력하세요(지출:1, 수입:2, 내역보기:3, 종료:q)3\n",
      "지금까지 기입된 내용은 다음과 같습니다.\n",
      "[지출]컴퓨터: 500000\n",
      "[지출]커피: 5000\n",
      "[수입]알바: 50000\n",
      "========================\n",
      "현재잔액은 545000입니다\n",
      "원하는 작업 번호를 입력하세요(지출:1, 수입:2, 내역보기:3, 종료:q)ㅂ\n",
      "현재잔액은 545000입니다\n",
      "원하는 작업 번호를 입력하세요(지출:1, 수입:2, 내역보기:3, 종료:q)q\n",
      "가계부를 종료합니다.\n"
     ]
    }
   ],
   "source": [
    "#def써서 이쁘게 만들어보기\n",
    "#가계부만들기\n",
    "janack = 1000000\n",
    "list1=[]\n",
    "list2=[]\n",
    "list3=[]\n",
    "list4=[]\n",
    "while(1):\n",
    "    print('현재잔액은 {}입니다'.format(janack))\n",
    "    jakup = input(\"원하는 작업 번호를 입력하세요(지출:1, 수입:2, 내역보기:3, 종료:q)\")\n",
    "    if(jakup == '1'):\n",
    "        r = input(\"지출 내역:\")\n",
    "        p = input(\"지출 금액:\")\n",
    "        i_p = int(p)\n",
    "        janack = janack - i_p\n",
    "        list1.append(r)\n",
    "        list2.append(p)\n",
    "        print('========================')\n",
    "        pass\n",
    "    if(jakup == '2'):\n",
    "        s = input(\"수입 내역\")\n",
    "        q = input(\"수입 금액\")\n",
    "        i_q = int(q)\n",
    "        janack = janack + i_q\n",
    "        list3.append(s)\n",
    "        list4.append(q)\n",
    "        print('========================')\n",
    "        pass\n",
    "    if(jakup == '3'):\n",
    "        print(\"지금까지 기입된 내용은 다음과 같습니다.\")\n",
    "        for v,w in zip(list1,list2):\n",
    "            print('[지출]{}: {}'.format(v,w))\n",
    "        for x,y in zip(list3,list4):\n",
    "            print('[수입]{}: {}'.format(x,y))\n",
    "        print('========================')\n",
    "    if(jakup == 'q'):\n",
    "        print(\"가계부를 종료합니다.\")\n",
    "        break\n",
    "        \n",
    "    \n",
    "    \n",
    "\n",
    "    \n"
   ]
  }
 ],
 "metadata": {
  "kernelspec": {
   "display_name": "Python 3",
   "language": "python",
   "name": "python3"
  },
  "language_info": {
   "codemirror_mode": {
    "name": "ipython",
    "version": 3
   },
   "file_extension": ".py",
   "mimetype": "text/x-python",
   "name": "python",
   "nbconvert_exporter": "python",
   "pygments_lexer": "ipython3",
   "version": "3.6.8"
  }
 },
 "nbformat": 4,
 "nbformat_minor": 2
}
