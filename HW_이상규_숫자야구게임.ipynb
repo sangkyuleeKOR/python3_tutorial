{
 "cells": [
  {
   "cell_type": "code",
   "execution_count": 1,
   "metadata": {},
   "outputs": [
    {
     "name": "stdout",
     "output_type": "stream",
     "text": [
      "[7, 6, 2]\n",
      "중복되지 않게 입력하세요:7 2 6\n",
      "strike: 1 ball: 2\n",
      "중복되지 않게 입력하세요:7 6 2\n",
      "strike: 3 ball: 0\n",
      "2번 시도로 끝났습니다\n"
     ]
    }
   ],
   "source": [
    "#숫자야구게임 만들어보기 : 컴퓨터가 1~9까지의 숫자를 3개 고르게함(중복없게)\n",
    "#그다음 사용자에게 숫자 3개 입력하게 하고 (입력하세요:_____)\n",
    "# 자리랑 숫자 둘다 맞으면 스트라이크\n",
    "# 숫자는 맞는데 위치가 틀리면 볼\n",
    "# 입력하세요:_____\n",
    "# 다시 판단 -> 계속 진행하다가 3스트라이크가 되면 게임 끝 (x번의 시도로 끝났습니다 출력)\n",
    "# 파일이름 -> HW1_이름.() 아침 10시 전까지\n",
    "\n",
    "import random\n",
    " \n",
    "count = 0\n",
    "list1 = []\n",
    "\n",
    "a = random.randint(1,9)\n",
    "for i in range(3):\n",
    "    while a in list1:\n",
    "        a = random.randint(1,9)\n",
    "    list1.append(a)\n",
    "print(list1)\n",
    "\n",
    "while(1):\n",
    "    strike = 0\n",
    "    ball = 0\n",
    "    list2 = []  \n",
    "    val1,val2,val3 = input(\"중복되지 않게 입력하세요:\").split()\n",
    "    val1 = int(val1)\n",
    "    val2 = int(val2)\n",
    "    val3 = int(val3)\n",
    "    list2.append(val1)\n",
    "    list2.append(val2)\n",
    "    list2.append(val3)\n",
    "\n",
    "    for x in range(0,3):\n",
    "        if(list1[x]==list2[x]):\n",
    "            strike+=1\n",
    "    \n",
    "            \n",
    "    if(list1[0]==list2[1] or list1[0]==list2[2]):\n",
    "        ball+=1\n",
    "    \n",
    "        \n",
    "    if(list1[1]==list2[0] or list1[1]==list2[2]):\n",
    "        ball+=1\n",
    "    \n",
    "\n",
    "    if(list1[2]==list2[1] or list1[2]==list2[0]):\n",
    "        ball+=1\n",
    "    \n",
    "    \n",
    "    print('strike: %d ball: %d' % (strike,ball))\n",
    "    count+=1\n",
    "    \n",
    "    if(strike >=3):\n",
    "        p = '{}번 시도로 끝났습니다'.format(count)\n",
    "        print(p)\n",
    "        break;"
   ]
  },
  {
   "cell_type": "code",
   "execution_count": null,
   "metadata": {},
   "outputs": [],
   "source": []
  }
 ],
 "metadata": {
  "kernelspec": {
   "display_name": "Python 3",
   "language": "python",
   "name": "python3"
  },
  "language_info": {
   "codemirror_mode": {
    "name": "ipython",
    "version": 3
   },
   "file_extension": ".py",
   "mimetype": "text/x-python",
   "name": "python",
   "nbconvert_exporter": "python",
   "pygments_lexer": "ipython3",
   "version": "3.6.8"
  }
 },
 "nbformat": 4,
 "nbformat_minor": 2
}
