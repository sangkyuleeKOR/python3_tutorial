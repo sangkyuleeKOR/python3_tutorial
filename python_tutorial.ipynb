{
 "cells": [
  {
   "cell_type": "markdown",
   "metadata": {},
   "source": [
    "Python Tutorial\n",
    "====="
   ]
  },
  {
   "cell_type": "code",
   "execution_count": null,
   "metadata": {},
   "outputs": [],
   "source": [
    "hel = 'hello world'\n",
    "print(hel)\n"
   ]
  },
  {
   "cell_type": "markdown",
   "metadata": {},
   "source": [
    "# 구구단 만들기 #"
   ]
  },
  {
   "cell_type": "code",
   "execution_count": null,
   "metadata": {},
   "outputs": [],
   "source": [
    "a = 10\n",
    "b= a//4 # //는 몫 %는 나머지\n",
    "print(b)"
   ]
  },
  {
   "cell_type": "code",
   "execution_count": null,
   "metadata": {},
   "outputs": [],
   "source": [
    "a=3\n",
    "print(a*1)\n",
    "print(a*2)\n",
    "print(a*3)\n",
    "print(a*4)\n",
    "print(a*5)\n",
    "print(a*6)\n",
    "print(a*7)\n",
    "print(a*8)\n",
    "print(a*9)\n"
   ]
  },
  {
   "cell_type": "code",
   "execution_count": null,
   "metadata": {},
   "outputs": [],
   "source": [
    "for i in range(1,10,1):\n",
    "    for j in range(1,10,1):\n",
    "        x = i * j\n",
    "        print(i,'x',j,'=',x)"
   ]
  },
  {
   "cell_type": "code",
   "execution_count": null,
   "metadata": {},
   "outputs": [],
   "source": [
    "a=3\n",
    "b='숫자'\n",
    "c = b+str(a) # c에다가 문자열과 숫자열 두개를 동시에 저장할 수 없으므로 str(a)로 숫자3을 문자로 바꾸어줌\n",
    "# c= a+b 하면 에러남\n",
    "print(c)"
   ]
  },
  {
   "cell_type": "code",
   "execution_count": null,
   "metadata": {},
   "outputs": [],
   "source": [
    "a=3\n",
    "b='3'\n",
    "print(a*2)\n",
    "print(b*2)"
   ]
  },
  {
   "cell_type": "code",
   "execution_count": null,
   "metadata": {},
   "outputs": [],
   "source": [
    "a=3\n",
    "b = str(a)+' x ' + str(1)+ ' = ' + str(a*1)\n",
    "print(b)"
   ]
  },
  {
   "cell_type": "code",
   "execution_count": null,
   "metadata": {},
   "outputs": [],
   "source": [
    "c= '{0}x{1}={2}'.format(a,1,a*1)\n",
    "print(c)"
   ]
  },
  {
   "cell_type": "code",
   "execution_count": null,
   "metadata": {},
   "outputs": [],
   "source": [
    "c='{}{}{}'.format(a,1,a*1)\n",
    "print(c)"
   ]
  },
  {
   "cell_type": "code",
   "execution_count": null,
   "metadata": {},
   "outputs": [],
   "source": [
    "b=3\n",
    "for a in range(2,10,2):\n",
    "    c = '{0}x{1}={2}'.format(b,a,a*b)\n",
    "    print(c)"
   ]
  },
  {
   "cell_type": "code",
   "execution_count": null,
   "metadata": {},
   "outputs": [],
   "source": [
    "a=3\n",
    "for a in range(3):\n",
    "    print(a)\n",
    "print(a)"
   ]
  },
  {
   "cell_type": "code",
   "execution_count": null,
   "metadata": {},
   "outputs": [],
   "source": [
    "for i in range(1,10,1):\n",
    "    for j in range(1,10,1):\n",
    "        z = '{} x {} = {}'.format(i,j,i*j)\n",
    "        print(z)\n"
   ]
  },
  {
   "cell_type": "markdown",
   "metadata": {},
   "source": [
    "# 가위바위보 게임"
   ]
  },
  {
   "cell_type": "code",
   "execution_count": null,
   "metadata": {},
   "outputs": [],
   "source": [
    "i = input(\"입력하세요\")\n",
    "b = int(i)"
   ]
  },
  {
   "cell_type": "code",
   "execution_count": null,
   "metadata": {},
   "outputs": [],
   "source": [
    "for j in range(1,10,1):\n",
    "    c = '{}x{}={}'.format(b,j,b*j)\n",
    "    print(c)"
   ]
  },
  {
   "cell_type": "code",
   "execution_count": null,
   "metadata": {},
   "outputs": [],
   "source": [
    "import random\n",
    "\n",
    "count_c = 0\n",
    "count_b = 0\n",
    "\n",
    "while(1):\n",
    "    a = input(\"가위:1 바위:2 보:3 중에 하나를 선택하세요:\")\n",
    "    if(a == 'n'):\n",
    "        break\n",
    "    b = int(a)\n",
    "    c = random.randint(1,3)\n",
    "    d = '사람 : {} vs 컴퓨터 : {}'.format(count_c,count_b)\n",
    "    if(b==1):\n",
    "        if(c==1):\n",
    "            print(d)\n",
    "            pass\n",
    "        if(c==2):\n",
    "            count_c=count_c + 1\n",
    "            print(d)\n",
    "            pass\n",
    "        if(c==3):\n",
    "            count_b=count_b + 1\n",
    "            print(d)\n",
    "            pass\n",
    "    if(b==2):\n",
    "        if(c==1):\n",
    "            count_b=count_b + 1\n",
    "            print(d)\n",
    "            pass\n",
    "        if(c==2):\n",
    "            print(d)\n",
    "            pass\n",
    "        if(c==3):\n",
    "            count_c=count_c + 1\n",
    "            print(d)\n",
    "            pass\n",
    "    if(b==3):\n",
    "        if(c==1):\n",
    "            count_c=count_c + 1\n",
    "            print(d)\n",
    "            pass\n",
    "        if(c==2):\n",
    "            count_b=count_b + 1\n",
    "            print(d)\n",
    "            pass\n",
    "        if(c==3):\n",
    "            print(d)\n",
    "            pass\n",
    "        "
   ]
  },
  {
   "cell_type": "code",
   "execution_count": null,
   "metadata": {},
   "outputs": [],
   "source": [
    "import random\n",
    "\n",
    "count_c = 0\n",
    "count_b = 0\n",
    "list=[]\n",
    "\n",
    "while(1):\n",
    "    a = input(\"가위:1 바위:2 보:3 중에 하나를 선택하세요(종료하려면 n):\")\n",
    "    if(a == 'n'):\n",
    "        break\n",
    "    b = int(a)\n",
    "    c = random.randint(1,3)\n",
    "    list.append(c)\n",
    "    d = '사람 : {} vs 컴퓨터 : {}'.format(count_c,count_b)\n",
    "    g = '당신이 이겼습니다.(컴퓨터는 {}를 선택했습니다.)'.format(c)\n",
    "    e = '당신이 졌습니다.(컴퓨터는 {}를 선택했습니다.)'.format(c)\n",
    "    f = '비겼습니다.(컴퓨터는 {}를 선택했습니다.)'.format(c)\n",
    "    if(b==1):\n",
    "        if(c==1):\n",
    "            print(f)\n",
    "            print(d)\n",
    "            pass\n",
    "        if(c==2):\n",
    "            count_c=count_c + 1\n",
    "            print(e)\n",
    "            print(d)\n",
    "            pass\n",
    "        if(c==3):\n",
    "            count_b=count_b + 1\n",
    "            print(g)\n",
    "            print(d)\n",
    "            pass\n",
    "    if(b==2):\n",
    "        if(c==1):\n",
    "            count_b=count_b + 1\n",
    "            print(d)\n",
    "            print(g)\n",
    "            pass\n",
    "        if(c==2):\n",
    "            print(f)\n",
    "            print(d)\n",
    "            pass\n",
    "        if(c==3):\n",
    "            count_c=count_c + 1\n",
    "            print(e)\n",
    "            print(d)\n",
    "            pass\n",
    "    if(b==3):\n",
    "        if(c==1):\n",
    "            count_c=count_c + 1\n",
    "            print(d)\n",
    "            print(e)\n",
    "            pass\n",
    "        if(c==2):\n",
    "            count_b=count_b + 1\n",
    "            print(g)\n",
    "            print(d)\n",
    "            pass\n",
    "        if(c==3):\n",
    "            print(f)\n",
    "            print(d)\n",
    "            pass\n",
    "        "
   ]
  },
  {
   "cell_type": "code",
   "execution_count": null,
   "metadata": {},
   "outputs": [],
   "source": [
    "import random\n",
    "a=input(\"가위:1, 바위:2, 보:3 중 하나를 입력하세요:\")\n",
    "b = random.randint(1,3)\n",
    "c= '당신은{}컴퓨터는{}을 선택했습니다'.format(a,b)\n",
    "print(c)"
   ]
  },
  {
   "cell_type": "code",
   "execution_count": null,
   "metadata": {},
   "outputs": [],
   "source": [
    "val = 45\n",
    "if val%2 ==0:\n",
    "    print('짝수입니다')\n",
    "else:\n",
    "    print('홀수입니다')"
   ]
  },
  {
   "cell_type": "code",
   "execution_count": null,
   "metadata": {},
   "outputs": [],
   "source": [
    "#소수인지 아닌지 판별하여 출력하기\n",
    "\n",
    "a = input(\"숫자를 입력하세요\")\n",
    "b = int(a)\n",
    "\n",
    "\n",
    "for i in range(2,b-1,1):\n",
    "    if(b%i == 0):\n",
    "        c = False\n",
    "        break\n",
    "    else:\n",
    "        c = True\n",
    "        \n",
    "if(c == True):\n",
    "    print(\"소수입니다\")\n",
    "    \n",
    "if(c == False):\n",
    "    print(\"소수가 아닙니다\")"
   ]
  },
  {
   "cell_type": "code",
   "execution_count": null,
   "metadata": {},
   "outputs": [],
   "source": [
    "#에라토스테네스의 접근 : 주어진 자연수 N이 소수이기 위한 필요충분 조건은 '자연수 N의 제곱근보다 크지않은 어떤 수로도 나눠지지 않는다' 이다\n",
    "#수가 수를 나누면 몫이 발생하게 되는데 몫과 나누는 수, 둘 중 하나는 반드시 N의 제곱근 이하이기 때문이다\n",
    "# -> 다시해보장\n",
    "import math\n",
    "\n",
    "a = input(\"숫자를 입력하세요\")\n",
    "b = int(a)\n",
    "\n",
    "for i in range(2,int(math.sqrt(b)),1):\n",
    "    if(b%i==0):\n",
    "        c = False\n",
    "    else:\n",
    "        c = True\n",
    "        \n",
    "        \n",
    "if(c == True):\n",
    "    print(\"소수입니다\")\n",
    "    \n",
    "if(c == False):\n",
    "    print(\"소수가 아닙니다\")"
   ]
  },
  {
   "cell_type": "code",
   "execution_count": null,
   "metadata": {},
   "outputs": [],
   "source": [
    "##문자가 n이면 프로그램 종료 아니면 입력된 문자가 출력되는거 만들어봐\n",
    "\n",
    "    \n",
    "while(1):\n",
    "    a=input(\"아무거나 입력하세요\")\n",
    "    if(a == 'n'):\n",
    "        break\n",
    "    else:\n",
    "        pass\n",
    "    \n",
    "    print(a)"
   ]
  },
  {
   "cell_type": "code",
   "execution_count": null,
   "metadata": {},
   "outputs": [],
   "source": [
    "# 에라토스테네스의 체\n",
    "\n",
    "def prime_list(n):\n",
    "    # 에라토스테네스의 체 초기화: n개 요소에 True 설정(소수로 간주)\n",
    "    sieve = [True] * n\n",
    "\n",
    "    # n의 최대 약수가 sqrt(n) 이하이므로 i=sqrt(n)까지 검사\n",
    "    m = int(n ** 0.5)\n",
    "    for i in range(2, m + 1):\n",
    "        if sieve[i] == True:           # i가 소수인 경우 \n",
    "            for j in range(i+i, n, i): # i이후 i의 배수들을 False 판정\n",
    "                sieve[j] = False\n",
    "\n",
    "    # 소수 목록 산출\n",
    "    return [i for i in range(2, n) if sieve[i] == True]"
   ]
  },
  {
   "cell_type": "code",
   "execution_count": null,
   "metadata": {},
   "outputs": [],
   "source": [
    "prime_list(20)"
   ]
  },
  {
   "cell_type": "code",
   "execution_count": null,
   "metadata": {},
   "outputs": [],
   "source": [
    "#양의 정수 하나를 입력받고, 입력 받은 양의 정수보다 작거나 같은 \n",
    "#모든 정수의 합 출력하기\n",
    "\n",
    "a = input(\"양의 정수를 입력하세요\")\n",
    "b = int(a)\n",
    "c = 0\n",
    "for i in range(1,b+1):\n",
    "    c=c+i\n",
    "        \n",
    "print(c)"
   ]
  },
  {
   "cell_type": "code",
   "execution_count": null,
   "metadata": {},
   "outputs": [],
   "source": [
    "#양의 정수 하나를 입력받고, \n",
    "#입력받은 양의 정수보다 작거나 같은 소수들의 합 구하기\n",
    "\n",
    "a = input(\"양의 정수 하나를 입력하세요\")\n",
    "b = int(a)\n",
    "c = 0\n",
    "for i in range(2,b+1):\n",
    "    flag = True\n",
    "    for j in range(2,i):\n",
    "        if(i%j==0):\n",
    "            flag = False\n",
    "            break\n",
    "    if(flag==True):\n",
    "        c=c+i\n",
    "\n",
    "            \n",
    "        \n",
    "        \n",
    "        \n",
    "print(c)"
   ]
  },
  {
   "cell_type": "code",
   "execution_count": null,
   "metadata": {},
   "outputs": [],
   "source": [
    "#양의 정수 하나를 입력받고,\n",
    "#입력 받는 정수의 약수 출력하기\n",
    "\n",
    "a = input(\"양의 정수 하나를 입력해주세요\")\n",
    "b = int(a)\n",
    "c = []\n",
    "for i in range(1,b+1):\n",
    "    if(b%i==0):\n",
    "        c.append(i)\n",
    "\n",
    "print(c)\n",
    "        "
   ]
  },
  {
   "cell_type": "markdown",
   "metadata": {},
   "source": []
  },
  {
   "cell_type": "code",
   "execution_count": null,
   "metadata": {},
   "outputs": [],
   "source": [
    "#컴퓨터가 1부터 100까지의 정수 중 하나를 랜덤하게 선택\n",
    "\n",
    "#사용자로부터 정수를 하나 입력받고 위의 선택된 정수와 비교\n",
    "\n",
    "#사용자가 큰값을 입력했으면 '더작은 값입니다'를 출력 후 다시 입력받기\n",
    "\n",
    "#사용자가 작은 값을 입력했으면 '더 큰 값입니다'를 출력 후 다시 입력받기\n",
    "\n",
    "#두 정수가 같은 값이면 'x번째 시도에 맞추었습니다.'를 출력 후 종료\n",
    "\n",
    "#esudoz@naver.com로 보내세용\n",
    "\n",
    "import random\n",
    "\n",
    "c = random.randint(1,100)\n",
    "d = 0\n",
    "while(1):\n",
    "    a = input(\"정수를 하나 입력하세요\")\n",
    "    b = int(a)\n",
    "    if(b>c):\n",
    "        d+=1\n",
    "        print('더 작은 값입니다')\n",
    "        pass\n",
    "    if(b<c):\n",
    "        d+=1\n",
    "        print('더 큰 값입니다')\n",
    "        pass\n",
    "    if(b==c):\n",
    "        d+=1\n",
    "        p = '{}번째 시도에 맞추었습니다.'.format(d)\n",
    "        print(p)\n",
    "        break\n"
   ]
  },
  {
   "cell_type": "code",
   "execution_count": null,
   "metadata": {},
   "outputs": [],
   "source": [
    "# 1~43까지 정수 중 임의로 6개 값을 선택하여 출력 (중복된 값이 없어야함)\n",
    "import random\n",
    "\n",
    "list =[]\n",
    "a = random.randint(1,43)\n",
    "for _ in range(6):\n",
    "    while a in list:\n",
    "        a = random.randint(1,43)\n",
    "    list.append(a)\n",
    "    \n",
    "print(list)\n",
    "        \n",
    "\n",
    "\n"
   ]
  },
  {
   "cell_type": "code",
   "execution_count": null,
   "metadata": {},
   "outputs": [],
   "source": [
    "import random \n",
    "\n",
    "pool = list(range(1,45))\n",
    "lotto = random.sample(pool,6)\n",
    "print(lotto)"
   ]
  },
  {
   "cell_type": "code",
   "execution_count": null,
   "metadata": {},
   "outputs": [],
   "source": [
    "#문자열을 입력받아 그안에서 a가 몇개나 들어있는지 출력\n",
    "\n",
    "a = input(\"문자열을 입력하세요\")\n",
    "c = 0\n",
    "\n",
    "\n",
    "for i in range(len(a)):\n",
    "    if(a[i]=='a'):\n",
    "        c+=1\n",
    "        \n",
    "print(c)\n",
    "\n"
   ]
  },
  {
   "cell_type": "code",
   "execution_count": null,
   "metadata": {},
   "outputs": [],
   "source": [
    "a = input(\"문자열을 입력하세요\")\n",
    "print(a.count('a'))"
   ]
  },
  {
   "cell_type": "code",
   "execution_count": null,
   "metadata": {},
   "outputs": [],
   "source": [
    "str1 = 'abcdefg'\n",
    "str2 = str1[0:3]\n",
    "print(str2)"
   ]
  },
  {
   "cell_type": "code",
   "execution_count": null,
   "metadata": {},
   "outputs": [],
   "source": [
    "#가계부만들기\n",
    "janack = 1000000\n",
    "list1=[]\n",
    "list2=[]\n",
    "list3=[]\n",
    "list4=[]\n",
    "while(1):\n",
    "    print('현재잔액은 {}입니다'.format(janack))\n",
    "    jakup = input(\"원하는 작업 번호를 입력하세요(지출:1, 수입:2, 내역보기:3, 종료:q)\")\n",
    "    if(jakup == '1'):\n",
    "        r = input(\"지출 내역:\")\n",
    "        p = input(\"지출 금액:\")\n",
    "        i_p = int(p)\n",
    "        janack = janack - i_p\n",
    "        list1.append(r)\n",
    "        list2.append(p)\n",
    "        print('========================')\n",
    "        pass\n",
    "    if(jakup == '2'):\n",
    "        s = input(\"수입 내역\")\n",
    "        q = input(\"수입 금액\")\n",
    "        i_q = int(q)\n",
    "        janack = janack + i_q\n",
    "        list3.append(s)\n",
    "        list4.append(q)\n",
    "        print('========================')\n",
    "        pass\n",
    "    if(jakup == '3'):\n",
    "        print(\"지금까지 기입된 내용은 다음과 같습니다.\")\n",
    "        for v,w in zip(list1,list2):\n",
    "            print('[지출]{}: {}'.format(v,w))\n",
    "        for x,y in zip(list3,list4):\n",
    "            print('[수입]{}: {}'.format(x,y))\n",
    "        print('========================')\n",
    "    if(jakup == 'q'):\n",
    "        print(\"가계부를 종료합니다.\")\n",
    "        break\n",
    "        \n",
    "    \n",
    "    \n",
    "\n",
    "    \n"
   ]
  },
  {
   "cell_type": "code",
   "execution_count": null,
   "metadata": {},
   "outputs": [],
   "source": [
    "a = [1,2,3,4,5]\n",
    "b = a\n",
    "b[2] = 7\n",
    "print(a[2])"
   ]
  },
  {
   "cell_type": "code",
   "execution_count": null,
   "metadata": {},
   "outputs": [],
   "source": [
    "# 양의 정수를 입력받고, 입력받은 정수보다 작거나 같은 모든 소수를 리스트로 만들어라\n",
    "\n",
    "a = input(\"양의 정수를 입력하세요\")\n",
    "b = int(a)\n",
    "\n",
    "list = []\n",
    "for i in range(2,b+1):\n",
    "    flag = True\n",
    "    for j in range(2,i):\n",
    "        if(i%j==0):\n",
    "            flag = False\n",
    "            break\n",
    "    if(flag == True):\n",
    "        list.append(i)\n",
    "        \n",
    "print(list)\n"
   ]
  },
  {
   "cell_type": "code",
   "execution_count": null,
   "metadata": {},
   "outputs": [],
   "source": [
    "#피보나치수열\n",
    "\n",
    "list3 = [1,1]\n",
    "\n",
    "while len(list3)!=20:\n",
    "    list3.append(list3[-1] + list3[-2])\n",
    "    \n",
    "print(list3)"
   ]
  },
  {
   "cell_type": "code",
   "execution_count": null,
   "metadata": {},
   "outputs": [],
   "source": [
    "list1 = list(range(1,44))\n",
    "print(list1)"
   ]
  },
  {
   "cell_type": "code",
   "execution_count": null,
   "metadata": {},
   "outputs": [],
   "source": [
    "list1 = [1,3,6,10,68]\n",
    "list2 = []\n",
    "for i in range(len(list1)):\n",
    "    list2.append(list1[i]*list1[i])\n",
    "    \n",
    "print(list2)"
   ]
  },
  {
   "cell_type": "code",
   "execution_count": null,
   "metadata": {},
   "outputs": [],
   "source": [
    "list1 = [1,3,6,10,68]\n",
    "list2 = []\n",
    "for i in list1:\n",
    "    list2.append(i*i)\n",
    "    \n",
    "print(list2)"
   ]
  },
  {
   "cell_type": "code",
   "execution_count": null,
   "metadata": {},
   "outputs": [],
   "source": [
    "# 0~20까지의 정수중 임의로 10개를 가져와서 정렬하는 코드를 만들어보자.\n",
    "# 만들었으면, 이제 추가로 20개를 더 가져와서 두 리스트를 합쳐서 하나의 리스트로\n",
    "# 만들고, 그 안에서 숫자 7 이 몇개인지 세어보자.\n",
    "\n",
    "import random\n",
    "\n",
    "list1 = []\n",
    "list2 = []\n",
    "list3 = []\n",
    "c = 0\n",
    "\n",
    "for i in range(10):\n",
    "    a= random.randint(0,20)\n",
    "    list1.append(a)\n",
    "list1.sort()\n",
    "    \n",
    "for j in range(20):\n",
    "    a = random.randint(0,20)\n",
    "    list2.append(a)\n",
    "    \n",
    "list3 = list1+list2\n",
    "print(len(list3))\n",
    "\n",
    "for z in range(len(list3)):\n",
    "    if list3[z] == 7:\n",
    "        c=c+1\n",
    "        \n",
    "print(c)\n",
    "    \n",
    "    \n",
    "    "
   ]
  },
  {
   "cell_type": "code",
   "execution_count": null,
   "metadata": {},
   "outputs": [],
   "source": [
    "a = 15\n",
    "b = 20\n",
    "\n",
    "temp = a\n",
    "\n",
    "a = b\n",
    "\n",
    "b = temp\n",
    "\n",
    "print(a,b)"
   ]
  },
  {
   "cell_type": "code",
   "execution_count": null,
   "metadata": {},
   "outputs": [],
   "source": [
    "#숫자야구게임 만들어보기 : 컴퓨터가 1~9까지의 숫자를 3개 고르게함(중복없게)\n",
    "#그다음 사용자에게 숫자 3개 입력하게 하고 (입력하세요:_____)\n",
    "# 자리랑 숫자 둘다 맞으면 스트라이크\n",
    "# 숫자는 맞는데 위치가 틀리면 볼\n",
    "# 입력하세요:_____\n",
    "# 다시 판단 -> 계속 진행하다가 3스트라이크가 되면 게임 끝 (x번의 시도로 끝났습니다 출력)\n",
    "# 파일이름 -> HW1_이름.() 아침 10시 전까지\n",
    "\n",
    "import random\n",
    " \n",
    "count = 0\n",
    "strike = 0\n",
    "ball = 0\n",
    "list1 = []\n",
    "\n",
    "a = random.randint(1,9)\n",
    "for i in range(3):\n",
    "    while a in list1:\n",
    "        a = random.randint(1,9)\n",
    "    list1.append(a)\n",
    "print(list1)\n",
    "\n",
    "while(1):\n",
    "    \n",
    "    list2 = []  \n",
    "    val1,val2,val3 = input(\"중복되지 않게 입력하세요:\").split()\n",
    "    val1 = int(val1)\n",
    "    val2 = int(val2)\n",
    "    val3 = int(val3)\n",
    "    list2.append(val1)\n",
    "    list2.append(val2)\n",
    "    list2.append(val3)\n",
    "    print(list2)\n",
    "\n",
    "    for x in range(0,3):\n",
    "        if(list1[x]==list2[x]):\n",
    "            print('strike')\n",
    "            strike+=1\n",
    "        \n",
    "        \n",
    "    if(list1[0] != list2[0]):\n",
    "        if(list1[0]==list2[1]):\n",
    "            print('ball')\n",
    "            ball +=1\n",
    "        if(list1[0]==list2[2]):\n",
    "            print('ball')\n",
    "            ball +=1\n",
    "       \n",
    "\n",
    "    if(list1[1] != list2[1]):\n",
    "        if(list1[1]==list2[0]):\n",
    "            print('ball')\n",
    "            ball +=1\n",
    "        if(list1[1]==list2[2]):\n",
    "            print('ball')\n",
    "            ball +=1\n",
    "     \n",
    "\n",
    "    if(list1[2] != list2[2]):\n",
    "        if(list1[2]==list2[1]):\n",
    "            print('ball')\n",
    "            ball +=1\n",
    "        if(list1[2]==list2[0]):\n",
    "            print('ball')\n",
    "            ball +=1\n",
    "    count +=1\n",
    "    if(strike >=3):\n",
    "        p = '{}번 시도로 끝났습니다'.format(count)\n",
    "        print(p)\n",
    "        break;"
   ]
  },
  {
   "cell_type": "code",
   "execution_count": null,
   "metadata": {},
   "outputs": [],
   "source": [
    "import numpy as np\n",
    "list1 = list(range(0,10))\n",
    "print(list1)\n",
    "\n",
    "arr2 = np.arange(0,10)\n",
    "print(arr2)\n",
    "\n",
    "arr3 = np.arange(0,10,0.5)\n",
    "print(arr3)\n",
    "\n",
    "arr4 = np.full(10,9)\n",
    "print(arr4)\n",
    "\n"
   ]
  },
  {
   "cell_type": "code",
   "execution_count": null,
   "metadata": {},
   "outputs": [],
   "source": [
    "list2 = [[1,2],[3,4]]\n",
    "print(list2[0][0])\n",
    "print(list2[0][1])\n",
    "print(list2[1][0])\n",
    "print(list2[1][1])"
   ]
  },
  {
   "cell_type": "code",
   "execution_count": null,
   "metadata": {},
   "outputs": [],
   "source": [
    "arr5 = np.array([[1,2],[3,4]])\n",
    "print(arr5)"
   ]
  },
  {
   "cell_type": "code",
   "execution_count": null,
   "metadata": {},
   "outputs": [],
   "source": [
    "list1 = [1]\n",
    "list2 = [2]\n",
    "print(list1+list2)\n",
    "\n",
    "arr6 = np.array([1])\n",
    "arr7 = np.array([2])\n",
    "print(arr6+arr7)"
   ]
  },
  {
   "cell_type": "code",
   "execution_count": null,
   "metadata": {},
   "outputs": [],
   "source": [
    "arr6 = np.array([[1,2],[3,4]])\n",
    "arr7 = np.array([[1,2],[3,4]])\n",
    "print(np.multiply(arr6,arr7))"
   ]
  },
  {
   "cell_type": "code",
   "execution_count": null,
   "metadata": {},
   "outputs": [],
   "source": [
    "# 양의 정수 하나를 입력받고,\n",
    "# 입력 받은 양의 정수보다 작거나 같은 모든 정수를 리스트로 만들기\n",
    "\n",
    "\n",
    "a = int(input(\"양의 정수 하나를 입력해주세요\"))\n",
    "c = []\n",
    "for i in range(1,a+1):\n",
    "    \n",
    "        c.append(i)\n",
    "\n",
    "print(c)\n",
    "        \n",
    "    \n",
    "    "
   ]
  },
  {
   "cell_type": "code",
   "execution_count": null,
   "metadata": {},
   "outputs": [],
   "source": [
    "a = input(\"양의 정수를 입력하세요\")\n",
    "b = int(a)\n",
    "\n",
    "list = []\n",
    "for i in range(2,b+1):\n",
    "    flag = True\n",
    "    for j in range(2,i):\n",
    "        if(i%j==0):\n",
    "            flag = False\n",
    "            break\n",
    "    if(flag == True):\n",
    "        list.append(i)\n",
    "        \n",
    "print(list)"
   ]
  },
  {
   "cell_type": "code",
   "execution_count": null,
   "metadata": {},
   "outputs": [],
   "source": [
    "# 양의 정수 2개를 입력받고,\n",
    "# 각 정수의 약수를 set으로 만들고\n",
    "# 두 정수의 공약수 set을 만들기\n",
    "\n",
    "a = int(input(\"양의정수1\"))\n",
    "b = int(input(\"양의정수2\"))\n",
    "c = set()\n",
    "d = set()\n",
    "e = set()\n",
    "for i in range(1,a+1):\n",
    "    if(a%i==0):\n",
    "        c.add(i)\n",
    "        \n",
    "for j in range(1,b+1):\n",
    "    if(b%i==0):\n",
    "        d.add(j)\n",
    "    \n",
    "e = c&d\n",
    "print(e)"
   ]
  },
  {
   "cell_type": "code",
   "execution_count": null,
   "metadata": {},
   "outputs": [],
   "source": [
    "# 값이 증가하는 리스트\n",
    "\n",
    "# [0,0,0,0,0,0,0,0,0] 이라는 리스트를 만든 다음\n",
    "\n",
    "# 사용자로부터 0부터 8까지의 정수중 하나를 입력받아서 리스트에서 입력받은 정수에 해당하는 위치에 값을 1 올려주고 출력\n",
    "\n",
    "import numpy as np\n",
    "\n",
    "list1 = np.full(9,0)\n",
    "while(1):\n",
    "    a = input(\"0부터8까지의 정수중 하나를 입력하세요\")\n",
    "    if(a =='q'):\n",
    "        break\n",
    "    b = int(a)\n",
    "\n",
    "    list1[b]+=1\n",
    "    print(list1)\n"
   ]
  },
  {
   "cell_type": "code",
   "execution_count": null,
   "metadata": {},
   "outputs": [],
   "source": [
    "# 값이 증가하는 리스트\n",
    "# 0~9 정수 2개 받아서\n",
    "# 리스트에서 입력받은 정수에 해당하는 위치에 1을 올려주고 출력\n",
    "\n",
    "list1 = np.full((10,10),0)\n",
    "# or list1 = np.zeros(10*10).reshape(10,10)\n",
    "while(1):\n",
    "    a, b = input(\"숫자 두개 입력하세요\").split()\n",
    "    c = int(a)\n",
    "    d = int(b)\n",
    "    list1[c][d] +=1\n",
    "    print(list1)\n",
    "\n"
   ]
  },
  {
   "cell_type": "code",
   "execution_count": null,
   "metadata": {},
   "outputs": [],
   "source": [
    "## 30%로 True, 70%로 False 를 출력하는 프로그램을 만들어라\n",
    "\n",
    "import random\n",
    "import matplotlib as plt\n",
    "prob_t = 0.7\n",
    "\n",
    "\n",
    "if(random.random()<prob_t):\n",
    "    print(True)\n",
    " \n",
    "else:\n",
    "    print(False)\n",
    "  \n",
    "    \n"
   ]
  },
  {
   "cell_type": "code",
   "execution_count": null,
   "metadata": {},
   "outputs": [],
   "source": [
    "# 크기가 100이고 값이 모두 False인 리스트를 만들고 리스트의 각 값이 0.8의 확률로 True로 바꾸기\n",
    "\n",
    "# 가장긴 True의 연속 개수 출력\n",
    "import numpy as np\n",
    "import random\n",
    "list1 = np.full(100,False)\n",
    "\n",
    "prob = 0.8\n",
    "count = 0\n",
    "j = 0\n",
    "\n",
    "for i in range(100):\n",
    "    if(random.random()<prob):\n",
    "        list1[i] = True\n",
    "#########################\n",
    "while(1):\n",
    "    if(list1[j] == True):\n",
    "        count+=1\n",
    "        j+=1\n",
    "    if(list1[j] == False):\n",
    "        break\n",
    "        \n",
    "print(count)\n",
    "######################### 가장긴 True의 연속개수 출력 못했음\n",
    "        \n",
    "# True가 처음나온곳 부터 False가 나오기 직전까지 인덱스를 카운트해서 반환하면돼\n",
    "# 다시해보기"
   ]
  },
  {
   "cell_type": "code",
   "execution_count": null,
   "metadata": {},
   "outputs": [],
   "source": [
    "# 100번 수행해서 연속된 True 개수의 평균값 "
   ]
  },
  {
   "cell_type": "code",
   "execution_count": null,
   "metadata": {},
   "outputs": [],
   "source": [
    "# comprehension\n",
    "\n",
    "a = [i for i in range(20) if i%2==0]\n",
    "print(a)"
   ]
  },
  {
   "cell_type": "code",
   "execution_count": null,
   "metadata": {},
   "outputs": [],
   "source": [
    "# comprehension\n",
    "\n",
    "a = [i if i%2==0 else i*2 for i in range(20) ]\n",
    "print(a)"
   ]
  },
  {
   "cell_type": "code",
   "execution_count": null,
   "metadata": {},
   "outputs": [],
   "source": [
    "import random\n",
    "list1 = [False] * 100\n",
    "for i in range(len(list1)):\n",
    "    if random.random()<0.8:\n",
    "        list1[i] = True\n",
    "print(list1)"
   ]
  },
  {
   "cell_type": "code",
   "execution_count": null,
   "metadata": {},
   "outputs": [],
   "source": [
    "def sum(x):\n",
    "    c=0\n",
    "    for i in range(x+1):\n",
    "        c+=i\n",
    "    return c\n",
    "\n",
    "\n",
    "b = sum(100)\n",
    "print(b)"
   ]
  },
  {
   "cell_type": "code",
   "execution_count": null,
   "metadata": {},
   "outputs": [],
   "source": [
    "# 소수이면True 아니면 False\n",
    "def is_prime(x):\n",
    "    flag = True\n",
    "    for i in range(2,x):\n",
    "        if(x%i==0):\n",
    "            flag = False\n",
    "            break\n",
    "    return flag            \n",
    "            \n",
    "\n",
    "\n",
    "c = 11\n",
    "print(is_prime(c))"
   ]
  },
  {
   "cell_type": "code",
   "execution_count": null,
   "metadata": {},
   "outputs": [],
   "source": [
    "def sumval(a1,a2):\n",
    "    return a1+a2\n",
    "\n",
    "print(sumval(3,5))"
   ]
  },
  {
   "cell_type": "code",
   "execution_count": null,
   "metadata": {},
   "outputs": [],
   "source": [
    "# *a1  -> a1이 여러개가 있을 수 있다.\n",
    "def sumval(*a1):\n",
    "    res = 0\n",
    "    for i in a1:\n",
    "        res+=i\n",
    "        \n",
    "    return res\n",
    "\n",
    "print(sumval(3,5,7))"
   ]
  },
  {
   "cell_type": "code",
   "execution_count": null,
   "metadata": {},
   "outputs": [],
   "source": [
    "# *x 같이 여러개 넣을 수 있는 변수는 끝에 넣어야 한다.\n",
    "def sayhello(hello,*x):\n",
    "    for n in x:\n",
    "        print(hello,n)\n",
    "    \n",
    "sayhello(\"안녕하세요\",\"a\",\"b\",\"c\")"
   ]
  },
  {
   "cell_type": "code",
   "execution_count": null,
   "metadata": {},
   "outputs": [],
   "source": [
    "def func2(p,q):\n",
    "    return p*2,q*3\n",
    "\n",
    "a,b = func2(1,2)\n",
    "print(a,b)"
   ]
  },
  {
   "cell_type": "code",
   "execution_count": null,
   "metadata": {},
   "outputs": [],
   "source": [
    "# key 값들은 중복이 허용되지 않는다. -> 만약 중복되면 뒤쪽에 있는것이 앞에것을 치환한다.\n",
    "\n",
    "dict1 = {'a':1,'b':2, 3:'c'}\n",
    "print(dict1)\n",
    "dict1[3]='d'\n",
    "print(dict1[3])\n",
    "print(dict1)\n",
    "dict1['d']=5 # dictionary에 없던 키 값과 value 값이 입력되면 딕셔너리에 추가된다.\n",
    "print(dict1)"
   ]
  },
  {
   "cell_type": "code",
   "execution_count": null,
   "metadata": {},
   "outputs": [],
   "source": [
    "# 예쁘게 만들기\n",
    "# 주소록 만들기\n",
    "# 원하는 기능을 입력하세요(1:주소입력, 2:주소 검색, 3:모든 주소 출력, q:종료):\n",
    "# 이름:\n",
    "# 주소:\n",
    "# 검색할 이름: (정렬해서)\n",
    "# q를눌러서 종료\n",
    "\n",
    "\n",
    "dict1={}\n",
    "\n",
    "while(1):\n",
    "    a = input(\"원하는 기능을 입력하세요(1:주소입력, 2:주소 검색, 3:모든 주소 출력, q:종료):\")\n",
    "    if(a == '1'):\n",
    "        b = input(\"이름:\")\n",
    "        c = input(\"주소:\")\n",
    "        dict1[b] = c\n",
    "        pass\n",
    "    if(a == '2'):\n",
    "        d = input(\"검색할 이름:\")\n",
    "        if dict1.get(d)!=None:\n",
    "            print(dict1.get(d))\n",
    "        else:\n",
    "            print(\"이름에 해당하는 주소가 없습니다.\")\n",
    "    if(a == '3'):\n",
    "        for i in sorted(dict1.keys()):\n",
    "            print('{} {}'.format(i,dict1[i]))\n",
    "    if(a == 'q'):\n",
    "        break;\n",
    "\n"
   ]
  },
  {
   "cell_type": "code",
   "execution_count": null,
   "metadata": {},
   "outputs": [],
   "source": []
  },
  {
   "cell_type": "code",
   "execution_count": null,
   "metadata": {},
   "outputs": [],
   "source": [
    "#가계부만들기\n",
    "janack = 1000000\n",
    "list1=[]\n",
    "list2=[]\n",
    "list3=[]\n",
    "list4=[]\n",
    "while(1):\n",
    "    print('현재잔액은 {}입니다'.format(janack))\n",
    "    jakup = input(\"원하는 작업 번호를 입력하세요(지출:1, 수입:2, 내역보기:3, 종료:q)\")\n",
    "    if(jakup == '1'):\n",
    "        r = input(\"지출 내역:\")\n",
    "        p = input(\"지출 금액:\")\n",
    "        i_p = int(p)\n",
    "        janack = janack - i_p\n",
    "        list1.append(r)\n",
    "        list2.append(p)\n",
    "        print('========================')\n",
    "        pass\n",
    "    if(jakup == '2'):\n",
    "        s = input(\"수입 내역\")\n",
    "        q = input(\"수입 금액\")\n",
    "        i_q = int(q)\n",
    "        janack = janack + i_q\n",
    "        list3.append(s)\n",
    "        list4.append(q)\n",
    "        print('========================')\n",
    "        pass\n",
    "    if(jakup == '3'):\n",
    "        print(\"지금까지 기입된 내용은 다음과 같습니다.\")\n",
    "        for v,w in zip(list1,list2):\n",
    "            print('[지출]{}: {}'.format(v,w))\n",
    "        for x,y in zip(list3,list4):\n",
    "            print('[수입]{}: {}'.format(x,y))\n",
    "        print('========================')\n",
    "    if(jakup == 'q'):\n",
    "        print(\"가계부를 종료합니다.\")\n",
    "        break\n",
    "        \n",
    "    \n",
    "    \n",
    "\n",
    "    \n"
   ]
  },
  {
   "cell_type": "code",
   "execution_count": null,
   "metadata": {},
   "outputs": [],
   "source": [
    "def plusone(a):\n",
    "    a = a+1 # a는 지역변수\n",
    "    \n",
    "a = 10 # a는 전역변수\n",
    "plusone(a)\n",
    "print(a)"
   ]
  },
  {
   "cell_type": "code",
   "execution_count": null,
   "metadata": {},
   "outputs": [],
   "source": [
    "def plusonetoa():\n",
    "    global a #지역변수를 전역변수로 바꾸어줌 되도록이면 쓰지마세요\n",
    "    a+=1\n",
    "    \n",
    "def plusonetoa(a): # global을 쓰지 않으려면 그냥 인자를 받아서 원하는 값으로 만드는 return을 작성해서 출력할 수 있다.\n",
    "    return a+1\n",
    "    \n",
    "    \n",
    "a= 10\n",
    "plusonetoa()\n",
    "print(a)"
   ]
  },
  {
   "cell_type": "code",
   "execution_count": null,
   "metadata": {},
   "outputs": [],
   "source": [
    "# 크기가 100이고 값이 모두 False인 리스트를 만들고 리스트의 각 값이 0.8의 확률로 True로 바꾸기\n",
    "\n",
    "# 가장긴 True의 연속 개수 출력\n",
    "import numpy as np\n",
    "import random\n",
    "list1 = np.full(100,False)\n",
    "\n",
    "prob = 0.8\n",
    "count = 0\n",
    "j = 0\n",
    "\n",
    "for i in range(100):\n",
    "    if(random.random()<prob):\n",
    "        list1[i] = True\n",
    "#########################\n",
    "while(1):\n",
    "    if(list1[j] == True):\n",
    "        count+=1\n",
    "        j+=1\n",
    "    if(list1[j] == False):\n",
    "        break\n",
    "        \n",
    "print(count)\n",
    "######################### 가장긴 True의 연속개수 출력 못했음\n",
    "a=True\n",
    "for a in list1:\n",
    "    if a:\n",
    "        cursize +=1\n",
    "    else:\n",
    "        maxsize = cursize\n",
    "# True가 처음나온곳 부터 False가 나오기 직전까지 인덱스를 카운트해서 반환하면돼\n",
    "# 다시해보기"
   ]
  },
  {
   "cell_type": "code",
   "execution_count": null,
   "metadata": {},
   "outputs": [],
   "source": [
    "import numpy as np\n",
    "import random\n",
    "list1 = np.full(100,False)\n",
    "\n",
    "prob = 0.8\n",
    "cursize = 0\n",
    "maxsize = 0\n",
    "for i in range(100):\n",
    "    if(random.random()<prob):\n",
    "        list1[i] = True\n",
    "        \n",
    "\n",
    "a=True\n",
    "for a in list1:\n",
    "    if a:\n",
    "        cursize +=1\n",
    "    else:\n",
    "        if(maxsize<cursize):\n",
    "            maxsize = cursize        \n",
    "        cursize = 0\n",
    "        \n",
    "if(maxsize<cursize):\n",
    "    maxsize = cursize        \n",
    "cursize = 0\n",
    "print(list1)\n",
    "print(maxsize)"
   ]
  },
  {
   "cell_type": "code",
   "execution_count": null,
   "metadata": {},
   "outputs": [],
   "source": [
    "import random\n",
    "import math\n",
    "import matplotlib.pyplot as plt\n",
    "\n",
    "\n",
    "def perc(prob,size):\n",
    "    list2 = [True if random.random()<prob else False for i in range(size)]\n",
    "    list2.append(False)\n",
    "    cursize=0\n",
    "    maxsize=0\n",
    "\n",
    "    for val in list2:\n",
    "        if val:\n",
    "            cursize+=1\n",
    "        else:\n",
    "            if cursize>maxsize:\n",
    "                maxsize = cursize\n",
    "            cursize=0\n",
    "    return maxsize\n",
    "\n",
    "def perc_sampling(prob,size,num_samp):\n",
    "    sum = 0\n",
    "    sum2 = 0\n",
    "    for _ in range(num_samp):\n",
    "        val = perc(prob,size)\n",
    "        sum += val\n",
    "        sum2 += val*val\n",
    "    avg = sum/num_samp\n",
    "    avg2 = sum2/num_samp    \n",
    "    return avg, math.sqrt(avg2-avg*avg)\n",
    "\n",
    "\n",
    "plist = []\n",
    "prob=0\n",
    "while prob<=1:\n",
    "    plist.append(prob)\n",
    "    prob+=0.1\n",
    "    \n",
    "avlist = []\n",
    "sdlist = []\n",
    "for prob in plist:\n",
    "    val1, val2 = perc_sampling(prob,1000,1000)\n",
    "    avlist.append(val1)\n",
    "    sdlist.append(val2)\n",
    "\n",
    "    \n",
    "plt.plot(plist,avlist)\n",
    "plt.ylabel('average')\n",
    "plt.xlabel('probability')\n",
    "plt.show()"
   ]
  },
  {
   "cell_type": "code",
   "execution_count": null,
   "metadata": {},
   "outputs": [],
   "source": [
    "def func(a,b):\n",
    "    return a*b\n",
    "\n",
    "print(func(5,6))\n",
    "\n",
    "func2 = lambda a,b :a*b # 한줄짜리 함수\n",
    "print(func2(5,6))"
   ]
  },
  {
   "cell_type": "code",
   "execution_count": null,
   "metadata": {},
   "outputs": [],
   "source": [
    "def sum(a,b):\n",
    "    return a+b\n",
    "def prod(a,b):\n",
    "    return a*b\n",
    "def dif(a,b):\n",
    "    return a-b\n",
    "\n",
    "funclist = [sum,prod,dif]\n",
    "for i in funclist:\n",
    "    print(i(5,6)) # 함수도 변수에 넣을 수 있다."
   ]
  },
  {
   "cell_type": "code",
   "execution_count": null,
   "metadata": {},
   "outputs": [],
   "source": [
    "list1 = list(range(0,40))\n",
    "\n",
    "for i in list1:\n",
    "    if i%3 == 0:\n",
    "        print(i)"
   ]
  },
  {
   "cell_type": "code",
   "execution_count": null,
   "metadata": {},
   "outputs": [],
   "source": [
    "def is_three(a):\n",
    "    if a%3==0:\n",
    "        return True\n",
    "    else:\n",
    "        return False\n",
    "    \n",
    "list1 = list(range(20))\n",
    "\n",
    "map(is_three,list1)"
   ]
  },
  {
   "cell_type": "code",
   "execution_count": null,
   "metadata": {},
   "outputs": [],
   "source": [
    "def is_three(a):\n",
    "    if a%3==0:\n",
    "        return True\n",
    "    else:\n",
    "        return False\n",
    "    \n",
    "list1 = list(range(20))\n",
    "\n",
    "a = list(map(is_three,list1))\n",
    "print(a)"
   ]
  },
  {
   "cell_type": "code",
   "execution_count": null,
   "metadata": {},
   "outputs": [],
   "source": [
    "b='asfasdfasf'\n",
    "res = b.split('a')\n",
    "print(res)"
   ]
  },
  {
   "cell_type": "code",
   "execution_count": null,
   "metadata": {},
   "outputs": [],
   "source": [
    "f = open('test.txt','w')\n",
    "f.write(\"이름1\")\n",
    "f.write('\\t')\n",
    "f.write(\"주소1\")\n",
    "f.write('\\n')\n",
    "f.write(\"이름2\")\n",
    "f.write('\\t')\n",
    "f.write(\"주소2\")\n",
    "f.close()"
   ]
  },
  {
   "cell_type": "code",
   "execution_count": null,
   "metadata": {},
   "outputs": [],
   "source": [
    "f = open('test.txt','r')\n",
    "rest = f.read()\n",
    "f.close()\n",
    "rest2 = rest.splitlines()\n",
    "for i in rest2:\n",
    "    rest3 = i.split('\\t')\n",
    "    print(rest3)"
   ]
  },
  {
   "cell_type": "code",
   "execution_count": null,
   "metadata": {},
   "outputs": [],
   "source": [
    "with open('test.txt',encoding='UTF-8') as f:\n",
    "    asdfasdf"
   ]
  },
  {
   "cell_type": "code",
   "execution_count": null,
   "metadata": {},
   "outputs": [],
   "source": [
    "# 값이 증가하는 리스트\n",
    "# 0~9 정수 2개 받아서\n",
    "# 리스트에서 입력받은 정수에 해당하는 위치에 1을 올려주고 출력\n",
    "\n",
    "list1 = np.full((10,10),'F')\n",
    "for j in range(10):\n",
    "    for i in range(10):\n",
    "        if(random.random()<0.5):\n",
    "            list1[j][i] = 'T'\n",
    "\n",
    "print(list1)\n",
    "def dfs():\n",
    "    foot_prints += [current_node]\n",
    "    \n",
    "    "
   ]
  },
  {
   "cell_type": "code",
   "execution_count": null,
   "metadata": {},
   "outputs": [],
   "source": []
  },
  {
   "cell_type": "code",
   "execution_count": 10,
   "metadata": {},
   "outputs": [
    {
     "name": "stdout",
     "output_type": "stream",
     "text": [
      "[['T' 'T' 'F' 'T' 'F']\n",
      " ['T' 'F' 'T' 'F' 'F']\n",
      " ['F' 'F' 'T' 'T' 'F']\n",
      " ['F' 'T' 'F' 'F' 'F']\n",
      " ['T' 'T' 'F' 'T' 'T']]\n",
      "{(0, 0): [(-1, 0), (1, 0), (0, 1)]}\n",
      "{(0, 0): [(-1, 0), (1, 0), (0, 1), (-1, 1), (0, 0)], (0, 1): [(-1, 0), (1, 0), (0, 1), (-1, 1), (0, 0)]}\n",
      "Asdf\n",
      "{(0, 0): [(-1, 0), (1, 0), (0, 1), (-1, 1), (0, 0)], (0, 1): [(-1, 0), (1, 0), (0, 1), (-1, 1), (0, 0)]}\n",
      "{(0, 0): [(-1, 0), (1, 0), (0, 1), (-1, 1), (0, 0), (-1, 3)], (0, 1): [(-1, 0), (1, 0), (0, 1), (-1, 1), (0, 0), (-1, 3)], (0, 3): [(-1, 0), (1, 0), (0, 1), (-1, 1), (0, 0), (-1, 3)]}\n",
      "{(0, 0): [(-1, 0), (1, 0), (0, 1), (-1, 1), (0, 0), (-1, 3), (0, 0)], (0, 1): [(-1, 0), (1, 0), (0, 1), (-1, 1), (0, 0), (-1, 3), (0, 0)], (0, 3): [(-1, 0), (1, 0), (0, 1), (-1, 1), (0, 0), (-1, 3), (0, 0)], (1, 0): [(-1, 0), (1, 0), (0, 1), (-1, 1), (0, 0), (-1, 3), (0, 0)]}\n",
      "Asdf\n",
      "{(0, 0): [(-1, 0), (1, 0), (0, 1), (-1, 1), (0, 0), (-1, 3), (0, 0)], (0, 1): [(-1, 0), (1, 0), (0, 1), (-1, 1), (0, 0), (-1, 3), (0, 0)], (0, 3): [(-1, 0), (1, 0), (0, 1), (-1, 1), (0, 0), (-1, 3), (0, 0)], (1, 0): [(-1, 0), (1, 0), (0, 1), (-1, 1), (0, 0), (-1, 3), (0, 0)]}\n",
      "{(0, 0): [(-1, 0), (1, 0), (0, 1), (-1, 1), (0, 0), (-1, 3), (0, 0), (2, 2)], (0, 1): [(-1, 0), (1, 0), (0, 1), (-1, 1), (0, 0), (-1, 3), (0, 0), (2, 2)], (0, 3): [(-1, 0), (1, 0), (0, 1), (-1, 1), (0, 0), (-1, 3), (0, 0), (2, 2)], (1, 0): [(-1, 0), (1, 0), (0, 1), (-1, 1), (0, 0), (-1, 3), (0, 0), (2, 2)], (1, 2): [(-1, 0), (1, 0), (0, 1), (-1, 1), (0, 0), (-1, 3), (0, 0), (2, 2)]}\n",
      "Asdf\n",
      "{(0, 0): [(-1, 0), (1, 0), (0, 1), (-1, 1), (0, 0), (-1, 3), (0, 0), (2, 2)], (0, 1): [(-1, 0), (1, 0), (0, 1), (-1, 1), (0, 0), (-1, 3), (0, 0), (2, 2)], (0, 3): [(-1, 0), (1, 0), (0, 1), (-1, 1), (0, 0), (-1, 3), (0, 0), (2, 2)], (1, 0): [(-1, 0), (1, 0), (0, 1), (-1, 1), (0, 0), (-1, 3), (0, 0), (2, 2)], (1, 2): [(-1, 0), (1, 0), (0, 1), (-1, 1), (0, 0), (-1, 3), (0, 0), (2, 2)]}\n",
      "Asdf\n",
      "{(0, 0): [(-1, 0), (1, 0), (0, 1), (-1, 1), (0, 0), (-1, 3), (0, 0), (2, 2)], (0, 1): [(-1, 0), (1, 0), (0, 1), (-1, 1), (0, 0), (-1, 3), (0, 0), (2, 2)], (0, 3): [(-1, 0), (1, 0), (0, 1), (-1, 1), (0, 0), (-1, 3), (0, 0), (2, 2)], (1, 0): [(-1, 0), (1, 0), (0, 1), (-1, 1), (0, 0), (-1, 3), (0, 0), (2, 2)], (1, 2): [(-1, 0), (1, 0), (0, 1), (-1, 1), (0, 0), (-1, 3), (0, 0), (2, 2)]}\n",
      "Asdf\n",
      "{(0, 0): [(-1, 0), (1, 0), (0, 1), (-1, 1), (0, 0), (-1, 3), (0, 0), (2, 2)], (0, 1): [(-1, 0), (1, 0), (0, 1), (-1, 1), (0, 0), (-1, 3), (0, 0), (2, 2)], (0, 3): [(-1, 0), (1, 0), (0, 1), (-1, 1), (0, 0), (-1, 3), (0, 0), (2, 2)], (1, 0): [(-1, 0), (1, 0), (0, 1), (-1, 1), (0, 0), (-1, 3), (0, 0), (2, 2)], (1, 2): [(-1, 0), (1, 0), (0, 1), (-1, 1), (0, 0), (-1, 3), (0, 0), (2, 2)]}\n",
      "{(0, 0): [(-1, 0), (1, 0), (0, 1), (-1, 1), (0, 0), (-1, 3), (0, 0), (2, 2), (1, 2), (2, 3)], (0, 1): [(-1, 0), (1, 0), (0, 1), (-1, 1), (0, 0), (-1, 3), (0, 0), (2, 2), (1, 2), (2, 3)], (0, 3): [(-1, 0), (1, 0), (0, 1), (-1, 1), (0, 0), (-1, 3), (0, 0), (2, 2), (1, 2), (2, 3)], (1, 0): [(-1, 0), (1, 0), (0, 1), (-1, 1), (0, 0), (-1, 3), (0, 0), (2, 2), (1, 2), (2, 3)], (1, 2): [(-1, 0), (1, 0), (0, 1), (-1, 1), (0, 0), (-1, 3), (0, 0), (2, 2), (1, 2), (2, 3)], (2, 2): [(-1, 0), (1, 0), (0, 1), (-1, 1), (0, 0), (-1, 3), (0, 0), (2, 2), (1, 2), (2, 3)]}\n",
      "{(0, 0): [(-1, 0), (1, 0), (0, 1), (-1, 1), (0, 0), (-1, 3), (0, 0), (2, 2), (1, 2), (2, 3), (2, 2)], (0, 1): [(-1, 0), (1, 0), (0, 1), (-1, 1), (0, 0), (-1, 3), (0, 0), (2, 2), (1, 2), (2, 3), (2, 2)], (0, 3): [(-1, 0), (1, 0), (0, 1), (-1, 1), (0, 0), (-1, 3), (0, 0), (2, 2), (1, 2), (2, 3), (2, 2)], (1, 0): [(-1, 0), (1, 0), (0, 1), (-1, 1), (0, 0), (-1, 3), (0, 0), (2, 2), (1, 2), (2, 3), (2, 2)], (1, 2): [(-1, 0), (1, 0), (0, 1), (-1, 1), (0, 0), (-1, 3), (0, 0), (2, 2), (1, 2), (2, 3), (2, 2)], (2, 2): [(-1, 0), (1, 0), (0, 1), (-1, 1), (0, 0), (-1, 3), (0, 0), (2, 2), (1, 2), (2, 3), (2, 2)], (2, 3): [(-1, 0), (1, 0), (0, 1), (-1, 1), (0, 0), (-1, 3), (0, 0), (2, 2), (1, 2), (2, 3), (2, 2)]}\n",
      "Asdf\n",
      "{(0, 0): [(-1, 0), (1, 0), (0, 1), (-1, 1), (0, 0), (-1, 3), (0, 0), (2, 2), (1, 2), (2, 3), (2, 2)], (0, 1): [(-1, 0), (1, 0), (0, 1), (-1, 1), (0, 0), (-1, 3), (0, 0), (2, 2), (1, 2), (2, 3), (2, 2)], (0, 3): [(-1, 0), (1, 0), (0, 1), (-1, 1), (0, 0), (-1, 3), (0, 0), (2, 2), (1, 2), (2, 3), (2, 2)], (1, 0): [(-1, 0), (1, 0), (0, 1), (-1, 1), (0, 0), (-1, 3), (0, 0), (2, 2), (1, 2), (2, 3), (2, 2)], (1, 2): [(-1, 0), (1, 0), (0, 1), (-1, 1), (0, 0), (-1, 3), (0, 0), (2, 2), (1, 2), (2, 3), (2, 2)], (2, 2): [(-1, 0), (1, 0), (0, 1), (-1, 1), (0, 0), (-1, 3), (0, 0), (2, 2), (1, 2), (2, 3), (2, 2)], (2, 3): [(-1, 0), (1, 0), (0, 1), (-1, 1), (0, 0), (-1, 3), (0, 0), (2, 2), (1, 2), (2, 3), (2, 2)]}\n",
      "{(0, 0): [(-1, 0), (1, 0), (0, 1), (-1, 1), (0, 0), (-1, 3), (0, 0), (2, 2), (1, 2), (2, 3), (2, 2), (4, 1)], (0, 1): [(-1, 0), (1, 0), (0, 1), (-1, 1), (0, 0), (-1, 3), (0, 0), (2, 2), (1, 2), (2, 3), (2, 2), (4, 1)], (0, 3): [(-1, 0), (1, 0), (0, 1), (-1, 1), (0, 0), (-1, 3), (0, 0), (2, 2), (1, 2), (2, 3), (2, 2), (4, 1)], (1, 0): [(-1, 0), (1, 0), (0, 1), (-1, 1), (0, 0), (-1, 3), (0, 0), (2, 2), (1, 2), (2, 3), (2, 2), (4, 1)], (1, 2): [(-1, 0), (1, 0), (0, 1), (-1, 1), (0, 0), (-1, 3), (0, 0), (2, 2), (1, 2), (2, 3), (2, 2), (4, 1)], (2, 2): [(-1, 0), (1, 0), (0, 1), (-1, 1), (0, 0), (-1, 3), (0, 0), (2, 2), (1, 2), (2, 3), (2, 2), (4, 1)], (2, 3): [(-1, 0), (1, 0), (0, 1), (-1, 1), (0, 0), (-1, 3), (0, 0), (2, 2), (1, 2), (2, 3), (2, 2), (4, 1)], (3, 1): [(-1, 0), (1, 0), (0, 1), (-1, 1), (0, 0), (-1, 3), (0, 0), (2, 2), (1, 2), (2, 3), (2, 2), (4, 1)]}\n",
      "Asdf\n",
      "{(0, 0): [(-1, 0), (1, 0), (0, 1), (-1, 1), (0, 0), (-1, 3), (0, 0), (2, 2), (1, 2), (2, 3), (2, 2), (4, 1)], (0, 1): [(-1, 0), (1, 0), (0, 1), (-1, 1), (0, 0), (-1, 3), (0, 0), (2, 2), (1, 2), (2, 3), (2, 2), (4, 1)], (0, 3): [(-1, 0), (1, 0), (0, 1), (-1, 1), (0, 0), (-1, 3), (0, 0), (2, 2), (1, 2), (2, 3), (2, 2), (4, 1)], (1, 0): [(-1, 0), (1, 0), (0, 1), (-1, 1), (0, 0), (-1, 3), (0, 0), (2, 2), (1, 2), (2, 3), (2, 2), (4, 1)], (1, 2): [(-1, 0), (1, 0), (0, 1), (-1, 1), (0, 0), (-1, 3), (0, 0), (2, 2), (1, 2), (2, 3), (2, 2), (4, 1)], (2, 2): [(-1, 0), (1, 0), (0, 1), (-1, 1), (0, 0), (-1, 3), (0, 0), (2, 2), (1, 2), (2, 3), (2, 2), (4, 1)], (2, 3): [(-1, 0), (1, 0), (0, 1), (-1, 1), (0, 0), (-1, 3), (0, 0), (2, 2), (1, 2), (2, 3), (2, 2), (4, 1)], (3, 1): [(-1, 0), (1, 0), (0, 1), (-1, 1), (0, 0), (-1, 3), (0, 0), (2, 2), (1, 2), (2, 3), (2, 2), (4, 1)]}\n",
      "Asdf\n",
      "{(0, 0): [(-1, 0), (1, 0), (0, 1), (-1, 1), (0, 0), (-1, 3), (0, 0), (2, 2), (1, 2), (2, 3), (2, 2), (4, 1)], (0, 1): [(-1, 0), (1, 0), (0, 1), (-1, 1), (0, 0), (-1, 3), (0, 0), (2, 2), (1, 2), (2, 3), (2, 2), (4, 1)], (0, 3): [(-1, 0), (1, 0), (0, 1), (-1, 1), (0, 0), (-1, 3), (0, 0), (2, 2), (1, 2), (2, 3), (2, 2), (4, 1)], (1, 0): [(-1, 0), (1, 0), (0, 1), (-1, 1), (0, 0), (-1, 3), (0, 0), (2, 2), (1, 2), (2, 3), (2, 2), (4, 1)], (1, 2): [(-1, 0), (1, 0), (0, 1), (-1, 1), (0, 0), (-1, 3), (0, 0), (2, 2), (1, 2), (2, 3), (2, 2), (4, 1)], (2, 2): [(-1, 0), (1, 0), (0, 1), (-1, 1), (0, 0), (-1, 3), (0, 0), (2, 2), (1, 2), (2, 3), (2, 2), (4, 1)], (2, 3): [(-1, 0), (1, 0), (0, 1), (-1, 1), (0, 0), (-1, 3), (0, 0), (2, 2), (1, 2), (2, 3), (2, 2), (4, 1)], (3, 1): [(-1, 0), (1, 0), (0, 1), (-1, 1), (0, 0), (-1, 3), (0, 0), (2, 2), (1, 2), (2, 3), (2, 2), (4, 1)]}\n"
     ]
    }
   ],
   "source": [
    "import random\n",
    "import numpy as np\n",
    "#0 배열 만들기\n",
    "\n",
    "list_t=[]\n",
    "graph={}\n",
    "list1 = []\n",
    "\n",
    "\n",
    "list1 = np.full((5,5),'F')\n",
    "for i in range(5):\n",
    "    for j in range(5):\n",
    "        if(random.random()<0.5):\n",
    "            list1[i][j] = 'T'       \n",
    "print(list1)\n",
    "def index(i, j):\n",
    "    if list1[i][j] == 'T':\n",
    "   #     print(\"다른 시작점을 선택하세요\")\n",
    "        if list1[i-1][j]=='T':\n",
    "            list_t.append((i-1,j))\n",
    "        if list1[i+1][j]=='T':\n",
    "            list_t.append((i+1,j))\n",
    "        if list1[i][j-1]=='T':\n",
    "            list_t.append((i,j-1))\n",
    "        if list1[i][j+1]=='T':\n",
    "            list_t.append((i,j+1))\n",
    "        graph[(i,j)]=list_t\n",
    "    else:\n",
    "        print(\"Asdf\")\n",
    "    return graph\n",
    "\n",
    "list3 = []\n",
    "#for _ in range(0,4):\n",
    "for i in range(0,4):\n",
    "    for j in range(0,4):\n",
    "        a = index(i,j)\n",
    "        print(a)\n"
   ]
  },
  {
   "cell_type": "code",
   "execution_count": null,
   "metadata": {},
   "outputs": [],
   "source": [
    "graph={'A': set(['B', 'C']), 'B': set(['A', 'D','E']), 'C':set(['A','F']), 'D':set(['B']), 'E':set(['B', 'F']), 'F':set(['C','E'])}\n",
    "\n",
    "def dfs(graph, start):\n",
    "    visited=[]\n",
    "    stack=[start]\n",
    "    \n",
    "    while stack:\n",
    "        n=stack.pop()\n",
    "        if n not in visited:\n",
    "            visited.append(n)\n",
    "            stack+=graph[n]-set(visited)\n",
    "    return visited\n",
    "\n",
    "\n",
    "dfg(graph,'A')"
   ]
  },
  {
   "cell_type": "code",
   "execution_count": null,
   "metadata": {},
   "outputs": [],
   "source": []
  },
  {
   "cell_type": "code",
   "execution_count": null,
   "metadata": {},
   "outputs": [],
   "source": []
  },
  {
   "cell_type": "code",
   "execution_count": null,
   "metadata": {},
   "outputs": [],
   "source": []
  },
  {
   "cell_type": "code",
   "execution_count": null,
   "metadata": {},
   "outputs": [],
   "source": []
  },
  {
   "cell_type": "code",
   "execution_count": null,
   "metadata": {},
   "outputs": [],
   "source": []
  }
 ],
 "metadata": {
  "kernelspec": {
   "display_name": "Python 3",
   "language": "python",
   "name": "python3"
  },
  "language_info": {
   "codemirror_mode": {
    "name": "ipython",
    "version": 3
   },
   "file_extension": ".py",
   "mimetype": "text/x-python",
   "name": "python",
   "nbconvert_exporter": "python",
   "pygments_lexer": "ipython3",
   "version": "3.6.8"
  }
 },
 "nbformat": 4,
 "nbformat_minor": 2
}
