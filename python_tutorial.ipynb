{
 "cells": [
  {
   "cell_type": "markdown",
   "metadata": {},
   "source": [
    "Python Tutorial\n",
    "====="
   ]
  },
  {
   "cell_type": "code",
   "execution_count": null,
   "metadata": {},
   "outputs": [],
   "source": [
    "hel = 'hello world'\n",
    "print(hel)\n"
   ]
  },
  {
   "cell_type": "markdown",
   "metadata": {},
   "source": [
    "# 구구단 만들기 #"
   ]
  },
  {
   "cell_type": "code",
   "execution_count": null,
   "metadata": {},
   "outputs": [],
   "source": [
    "a = 10\n",
    "b= a//4 # //는 몫 %는 나머지\n",
    "print(b)"
   ]
  },
  {
   "cell_type": "code",
   "execution_count": null,
   "metadata": {},
   "outputs": [],
   "source": [
    "a=3\n",
    "print(a*1)\n",
    "print(a*2)\n",
    "print(a*3)\n",
    "print(a*4)\n",
    "print(a*5)\n",
    "print(a*6)\n",
    "print(a*7)\n",
    "print(a*8)\n",
    "print(a*9)\n"
   ]
  },
  {
   "cell_type": "code",
   "execution_count": null,
   "metadata": {},
   "outputs": [],
   "source": [
    "for i in range(1,10,1):\n",
    "    for j in range(1,10,1):\n",
    "        x = i * j\n",
    "        print(i,'x',j,'=',x)"
   ]
  },
  {
   "cell_type": "code",
   "execution_count": null,
   "metadata": {},
   "outputs": [],
   "source": [
    "a=3\n",
    "b='숫자'\n",
    "c = b+str(a) # c에다가 문자열과 숫자열 두개를 동시에 저장할 수 없으므로 str(a)로 숫자3을 문자로 바꾸어줌\n",
    "# c= a+b 하면 에러남\n",
    "print(c)"
   ]
  },
  {
   "cell_type": "code",
   "execution_count": null,
   "metadata": {},
   "outputs": [],
   "source": [
    "a=3\n",
    "b='3'\n",
    "print(a*2)\n",
    "print(b*2)"
   ]
  },
  {
   "cell_type": "code",
   "execution_count": null,
   "metadata": {},
   "outputs": [],
   "source": [
    "a=3\n",
    "b = str(a)+' x ' + str(1)+ ' = ' + str(a*1)\n",
    "print(b)"
   ]
  },
  {
   "cell_type": "code",
   "execution_count": null,
   "metadata": {},
   "outputs": [],
   "source": [
    "c= '{0}x{1}={2}'.format(a,1,a*1)\n",
    "print(c)"
   ]
  },
  {
   "cell_type": "code",
   "execution_count": null,
   "metadata": {},
   "outputs": [],
   "source": [
    "c='{}{}{}'.format(a,1,a*1)\n",
    "print(c)"
   ]
  },
  {
   "cell_type": "code",
   "execution_count": null,
   "metadata": {},
   "outputs": [],
   "source": [
    "b=3\n",
    "for a in range(2,10,2):\n",
    "    c = '{0}x{1}={2}'.format(b,a,a*b)\n",
    "    print(c)"
   ]
  },
  {
   "cell_type": "code",
   "execution_count": null,
   "metadata": {},
   "outputs": [],
   "source": [
    "a=3\n",
    "for a in range(3):\n",
    "    print(a)\n",
    "print(a)"
   ]
  },
  {
   "cell_type": "code",
   "execution_count": null,
   "metadata": {},
   "outputs": [],
   "source": [
    "for i in range(1,10,1):\n",
    "    for j in range(1,10,1):\n",
    "        z = '{} x {} = {}'.format(i,j,i*j)\n",
    "        print(z)\n"
   ]
  },
  {
   "cell_type": "markdown",
   "metadata": {},
   "source": [
    "# 가위바위보 게임"
   ]
  },
  {
   "cell_type": "code",
   "execution_count": null,
   "metadata": {},
   "outputs": [],
   "source": [
    "i = input(\"입력하세요\")\n",
    "b = int(i)"
   ]
  },
  {
   "cell_type": "code",
   "execution_count": null,
   "metadata": {},
   "outputs": [],
   "source": [
    "for j in range(1,10,1):\n",
    "    c = '{}x{}={}'.format(b,j,b*j)\n",
    "    print(c)"
   ]
  },
  {
   "cell_type": "code",
   "execution_count": 20,
   "metadata": {},
   "outputs": [
    {
     "name": "stdout",
     "output_type": "stream",
     "text": [
      "가위:1 바위:2 보:3 중에 하나를 선택하세요:1\n",
      "사람 : 9 vs 컴퓨터 : 13\n",
      "가위:1 바위:2 보:3 중에 하나를 선택하세요:2\n",
      "사람 : 9 vs 컴퓨터 : 13\n",
      "가위:1 바위:2 보:3 중에 하나를 선택하세요:3\n",
      "사람 : 9 vs 컴퓨터 : 13\n",
      "가위:1 바위:2 보:3 중에 하나를 선택하세요:n\n"
     ]
    }
   ],
   "source": [
    "import random\n",
    "\n",
    "count_c = 0\n",
    "count_b = 0\n",
    "\n",
    "while(1):\n",
    "    a = input(\"가위:1 바위:2 보:3 중에 하나를 선택하세요:\")\n",
    "    if(a == 'n'):\n",
    "        break\n",
    "    b = int(a)\n",
    "    c = random.randint(1,3)\n",
    "    d = '사람 : {} vs 컴퓨터 : {}'.format(count_c,count_b)\n",
    "    if(b==1):\n",
    "        if(c==1):\n",
    "            print(d)\n",
    "            pass\n",
    "        if(c==2):\n",
    "            count_c=count_c + 1\n",
    "            print(d)\n",
    "            pass\n",
    "        if(c==3):\n",
    "            count_b=count_b + 1\n",
    "            print(d)\n",
    "            pass\n",
    "    if(b==2):\n",
    "        if(c==1):\n",
    "            count_b=count_b + 1\n",
    "            print(d)\n",
    "            pass\n",
    "        if(c==2):\n",
    "            print(d)\n",
    "            pass\n",
    "        if(c==3):\n",
    "            count_c=count_c + 1\n",
    "            print(d)\n",
    "            pass\n",
    "    if(b==3):\n",
    "        if(c==1):\n",
    "            count_c=count_c + 1\n",
    "            print(d)\n",
    "            pass\n",
    "        if(c==2):\n",
    "            count_b=count_b + 1\n",
    "            print(d)\n",
    "            pass\n",
    "        if(c==3):\n",
    "            print(d)\n",
    "            pass\n",
    "        "
   ]
  },
  {
   "cell_type": "code",
   "execution_count": 21,
   "metadata": {},
   "outputs": [
    {
     "name": "stdout",
     "output_type": "stream",
     "text": [
      "가위:1, 바위:2, 보:3 중 하나를 입력하세요:1\n",
      "당신은1컴퓨터는3을 선택했습니다\n"
     ]
    }
   ],
   "source": [
    "import random\n",
    "a=input(\"가위:1, 바위:2, 보:3 중 하나를 입력하세요:\")\n",
    "b = random.randint(1,3)\n",
    "c= '당신은{}컴퓨터는{}을 선택했습니다'.format(a,b)\n",
    "print(c)"
   ]
  },
  {
   "cell_type": "code",
   "execution_count": 22,
   "metadata": {},
   "outputs": [
    {
     "name": "stdout",
     "output_type": "stream",
     "text": [
      "홀수입니다\n"
     ]
    }
   ],
   "source": [
    "val = 45\n",
    "if val%2 ==0:\n",
    "    print('짝수입니다')\n",
    "else:\n",
    "    print('홀수입니다')"
   ]
  },
  {
   "cell_type": "code",
   "execution_count": 35,
   "metadata": {},
   "outputs": [
    {
     "name": "stdout",
     "output_type": "stream",
     "text": [
      "숫자를 입력하세요11\n",
      "소수입니다\n"
     ]
    }
   ],
   "source": [
    "#소수인지 아닌지 판별하여 출력하기\n",
    "\n",
    "a = input(\"숫자를 입력하세요\")\n",
    "b = int(a)\n",
    "\n",
    "\n",
    "for i in range(2,b-1,1):\n",
    "    if(b%i == 0):\n",
    "        c = False\n",
    "    else:\n",
    "        c = True\n",
    "        \n",
    "if(c == True):\n",
    "    print(\"소수입니다\")\n",
    "    \n",
    "if(c == False):\n",
    "    print(\"소수가 아닙니다\")"
   ]
  },
  {
   "cell_type": "code",
   "execution_count": 63,
   "metadata": {},
   "outputs": [
    {
     "name": "stdout",
     "output_type": "stream",
     "text": [
      "숫자를 입력하세요100\n",
      "소수입니다\n"
     ]
    }
   ],
   "source": [
    "#에라토스테네스의 접근 : 주어진 자연수 N이 소수이기 위한 필요충분 조건은 '자연수 N의 제곱근보다 크지않은 어떤 수로도 나눠지지 않는다' 이다\n",
    "#수가 수를 나누면 몫이 발생하게 되는데 몫과 나누는 수, 둘 중 하나는 반드시 N의 제곱근 이하이기 때문이다\n",
    "# -> 다시해보장\n",
    "import math\n",
    "\n",
    "a = input(\"숫자를 입력하세요\")\n",
    "b = int(a)\n",
    "\n",
    "for i in range(2,int(math.sqrt(b)),1):\n",
    "    if(b%i==0):\n",
    "        c = False\n",
    "    else:\n",
    "        c = True\n",
    "        \n",
    "        \n",
    "if(c == True):\n",
    "    print(\"소수입니다\")\n",
    "    \n",
    "if(c == False):\n",
    "    print(\"소수가 아닙니다\")"
   ]
  },
  {
   "cell_type": "code",
   "execution_count": 69,
   "metadata": {},
   "outputs": [
    {
     "name": "stdout",
     "output_type": "stream",
     "text": [
      "아무거나 입력하세요d\n",
      "d\n",
      "아무거나 입력하세요d\n",
      "d\n",
      "아무거나 입력하세요d\n",
      "d\n",
      "아무거나 입력하세요d\n",
      "d\n",
      "아무거나 입력하세요n\n"
     ]
    }
   ],
   "source": [
    "##문자가 n이면 프로그램 종료 아니면 입력된 문자가 출력되는거 만들어봐\n",
    "\n",
    "    \n",
    "while(1):\n",
    "    a=input(\"아무거나 입력하세요\")\n",
    "    if(a == 'n'):\n",
    "        break\n",
    "    else:\n",
    "        pass\n",
    "    \n",
    "    print(a)"
   ]
  },
  {
   "cell_type": "code",
   "execution_count": null,
   "metadata": {},
   "outputs": [],
   "source": []
  },
  {
   "cell_type": "code",
   "execution_count": null,
   "metadata": {},
   "outputs": [],
   "source": []
  },
  {
   "cell_type": "code",
   "execution_count": null,
   "metadata": {},
   "outputs": [],
   "source": []
  },
  {
   "cell_type": "code",
   "execution_count": null,
   "metadata": {},
   "outputs": [],
   "source": []
  },
  {
   "cell_type": "code",
   "execution_count": null,
   "metadata": {},
   "outputs": [],
   "source": []
  },
  {
   "cell_type": "code",
   "execution_count": null,
   "metadata": {},
   "outputs": [],
   "source": []
  },
  {
   "cell_type": "code",
   "execution_count": null,
   "metadata": {},
   "outputs": [],
   "source": []
  },
  {
   "cell_type": "code",
   "execution_count": null,
   "metadata": {},
   "outputs": [],
   "source": []
  },
  {
   "cell_type": "code",
   "execution_count": null,
   "metadata": {},
   "outputs": [],
   "source": []
  },
  {
   "cell_type": "code",
   "execution_count": null,
   "metadata": {},
   "outputs": [],
   "source": []
  },
  {
   "cell_type": "code",
   "execution_count": null,
   "metadata": {},
   "outputs": [],
   "source": []
  },
  {
   "cell_type": "code",
   "execution_count": null,
   "metadata": {},
   "outputs": [],
   "source": []
  },
  {
   "cell_type": "code",
   "execution_count": null,
   "metadata": {},
   "outputs": [],
   "source": []
  },
  {
   "cell_type": "code",
   "execution_count": null,
   "metadata": {},
   "outputs": [],
   "source": []
  },
  {
   "cell_type": "code",
   "execution_count": null,
   "metadata": {},
   "outputs": [],
   "source": []
  },
  {
   "cell_type": "code",
   "execution_count": null,
   "metadata": {},
   "outputs": [],
   "source": []
  },
  {
   "cell_type": "code",
   "execution_count": null,
   "metadata": {},
   "outputs": [],
   "source": []
  },
  {
   "cell_type": "code",
   "execution_count": null,
   "metadata": {},
   "outputs": [],
   "source": []
  },
  {
   "cell_type": "code",
   "execution_count": null,
   "metadata": {},
   "outputs": [],
   "source": []
  },
  {
   "cell_type": "code",
   "execution_count": null,
   "metadata": {},
   "outputs": [],
   "source": []
  },
  {
   "cell_type": "code",
   "execution_count": null,
   "metadata": {},
   "outputs": [],
   "source": []
  }
 ],
 "metadata": {
  "kernelspec": {
   "display_name": "Python 3",
   "language": "python",
   "name": "python3"
  }
 },
 "nbformat": 4,
 "nbformat_minor": 2
}
