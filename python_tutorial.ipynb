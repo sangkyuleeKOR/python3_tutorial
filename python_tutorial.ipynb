{
 "cells": [
  {
   "cell_type": "markdown",
   "metadata": {},
   "source": [
    "Python Tutorial\n",
    "====="
   ]
  },
  {
   "cell_type": "code",
   "execution_count": null,
   "metadata": {},
   "outputs": [],
   "source": [
    "hel = 'hello world'\n",
    "print(hel)\n"
   ]
  },
  {
   "cell_type": "markdown",
   "metadata": {},
   "source": [
    "# 구구단 만들기 #"
   ]
  },
  {
   "cell_type": "code",
   "execution_count": null,
   "metadata": {},
   "outputs": [],
   "source": [
    "a = 10\n",
    "b= a//4 # //는 몫 %는 나머지\n",
    "print(b)"
   ]
  },
  {
   "cell_type": "code",
   "execution_count": null,
   "metadata": {},
   "outputs": [],
   "source": [
    "a=3\n",
    "print(a*1)\n",
    "print(a*2)\n",
    "print(a*3)\n",
    "print(a*4)\n",
    "print(a*5)\n",
    "print(a*6)\n",
    "print(a*7)\n",
    "print(a*8)\n",
    "print(a*9)\n"
   ]
  },
  {
   "cell_type": "code",
   "execution_count": null,
   "metadata": {},
   "outputs": [],
   "source": [
    "for i in range(1,10,1):\n",
    "    for j in range(1,10,1):\n",
    "        x = i * j\n",
    "        print(i,'x',j,'=',x)"
   ]
  },
  {
   "cell_type": "code",
   "execution_count": null,
   "metadata": {},
   "outputs": [],
   "source": [
    "a=3\n",
    "b='숫자'\n",
    "c = b+str(a) # c에다가 문자열과 숫자열 두개를 동시에 저장할 수 없으므로 str(a)로 숫자3을 문자로 바꾸어줌\n",
    "# c= a+b 하면 에러남\n",
    "print(c)"
   ]
  },
  {
   "cell_type": "code",
   "execution_count": null,
   "metadata": {},
   "outputs": [],
   "source": [
    "a=3\n",
    "b='3'\n",
    "print(a*2)\n",
    "print(b*2)"
   ]
  },
  {
   "cell_type": "code",
   "execution_count": null,
   "metadata": {},
   "outputs": [],
   "source": [
    "a=3\n",
    "b = str(a)+' x ' + str(1)+ ' = ' + str(a*1)\n",
    "print(b)"
   ]
  },
  {
   "cell_type": "code",
   "execution_count": null,
   "metadata": {},
   "outputs": [],
   "source": [
    "c= '{0}x{1}={2}'.format(a,1,a*1)\n",
    "print(c)"
   ]
  },
  {
   "cell_type": "code",
   "execution_count": null,
   "metadata": {},
   "outputs": [],
   "source": [
    "c='{}{}{}'.format(a,1,a*1)\n",
    "print(c)"
   ]
  },
  {
   "cell_type": "code",
   "execution_count": null,
   "metadata": {},
   "outputs": [],
   "source": [
    "b=3\n",
    "for a in range(2,10,2):\n",
    "    c = '{0}x{1}={2}'.format(b,a,a*b)\n",
    "    print(c)"
   ]
  },
  {
   "cell_type": "code",
   "execution_count": null,
   "metadata": {},
   "outputs": [],
   "source": [
    "a=3\n",
    "for a in range(3):\n",
    "    print(a)\n",
    "print(a)"
   ]
  },
  {
   "cell_type": "code",
   "execution_count": null,
   "metadata": {},
   "outputs": [],
   "source": [
    "for i in range(1,10,1):\n",
    "    for j in range(1,10,1):\n",
    "        z = '{} x {} = {}'.format(i,j,i*j)\n",
    "        print(z)\n"
   ]
  },
  {
   "cell_type": "markdown",
   "metadata": {},
   "source": [
    "# 가위바위보 게임"
   ]
  },
  {
   "cell_type": "code",
   "execution_count": null,
   "metadata": {},
   "outputs": [],
   "source": [
    "i = input(\"입력하세요\")\n",
    "b = int(i)"
   ]
  },
  {
   "cell_type": "code",
   "execution_count": null,
   "metadata": {},
   "outputs": [],
   "source": [
    "for j in range(1,10,1):\n",
    "    c = '{}x{}={}'.format(b,j,b*j)\n",
    "    print(c)"
   ]
  },
  {
   "cell_type": "code",
   "execution_count": null,
   "metadata": {},
   "outputs": [],
   "source": [
    "import random\n",
    "\n",
    "count_c = 0\n",
    "count_b = 0\n",
    "\n",
    "while(1):\n",
    "    a = input(\"가위:1 바위:2 보:3 중에 하나를 선택하세요:\")\n",
    "    if(a == 'n'):\n",
    "        break\n",
    "    b = int(a)\n",
    "    c = random.randint(1,3)\n",
    "    d = '사람 : {} vs 컴퓨터 : {}'.format(count_c,count_b)\n",
    "    if(b==1):\n",
    "        if(c==1):\n",
    "            print(d)\n",
    "            pass\n",
    "        if(c==2):\n",
    "            count_c=count_c + 1\n",
    "            print(d)\n",
    "            pass\n",
    "        if(c==3):\n",
    "            count_b=count_b + 1\n",
    "            print(d)\n",
    "            pass\n",
    "    if(b==2):\n",
    "        if(c==1):\n",
    "            count_b=count_b + 1\n",
    "            print(d)\n",
    "            pass\n",
    "        if(c==2):\n",
    "            print(d)\n",
    "            pass\n",
    "        if(c==3):\n",
    "            count_c=count_c + 1\n",
    "            print(d)\n",
    "            pass\n",
    "    if(b==3):\n",
    "        if(c==1):\n",
    "            count_c=count_c + 1\n",
    "            print(d)\n",
    "            pass\n",
    "        if(c==2):\n",
    "            count_b=count_b + 1\n",
    "            print(d)\n",
    "            pass\n",
    "        if(c==3):\n",
    "            print(d)\n",
    "            pass\n",
    "        "
   ]
  },
  {
   "cell_type": "code",
   "execution_count": null,
   "metadata": {},
   "outputs": [],
   "source": [
    "import random\n",
    "\n",
    "count_c = 0\n",
    "count_b = 0\n",
    "list=[]\n",
    "\n",
    "while(1):\n",
    "    a = input(\"가위:1 바위:2 보:3 중에 하나를 선택하세요(종료하려면 n):\")\n",
    "    if(a == 'n'):\n",
    "        break\n",
    "    b = int(a)\n",
    "    c = random.randint(1,3)\n",
    "    list.append(c)\n",
    "    d = '사람 : {} vs 컴퓨터 : {}'.format(count_c,count_b)\n",
    "    g = '당신이 이겼습니다.(컴퓨터는 {}를 선택했습니다.)'.format(c)\n",
    "    e = '당신이 졌습니다.(컴퓨터는 {}를 선택했습니다.)'.format(c)\n",
    "    f = '비겼습니다.(컴퓨터는 {}를 선택했습니다.)'.format(c)\n",
    "    if(b==1):\n",
    "        if(c==1):\n",
    "            print(f)\n",
    "            print(d)\n",
    "            pass\n",
    "        if(c==2):\n",
    "            count_c=count_c + 1\n",
    "            print(e)\n",
    "            print(d)\n",
    "            pass\n",
    "        if(c==3):\n",
    "            count_b=count_b + 1\n",
    "            print(g)\n",
    "            print(d)\n",
    "            pass\n",
    "    if(b==2):\n",
    "        if(c==1):\n",
    "            count_b=count_b + 1\n",
    "            print(d)\n",
    "            print(g)\n",
    "            pass\n",
    "        if(c==2):\n",
    "            print(f)\n",
    "            print(d)\n",
    "            pass\n",
    "        if(c==3):\n",
    "            count_c=count_c + 1\n",
    "            print(e)\n",
    "            print(d)\n",
    "            pass\n",
    "    if(b==3):\n",
    "        if(c==1):\n",
    "            count_c=count_c + 1\n",
    "            print(d)\n",
    "            print(e)\n",
    "            pass\n",
    "        if(c==2):\n",
    "            count_b=count_b + 1\n",
    "            print(g)\n",
    "            print(d)\n",
    "            pass\n",
    "        if(c==3):\n",
    "            print(f)\n",
    "            print(d)\n",
    "            pass\n",
    "        "
   ]
  },
  {
   "cell_type": "code",
   "execution_count": null,
   "metadata": {},
   "outputs": [],
   "source": [
    "import random\n",
    "a=input(\"가위:1, 바위:2, 보:3 중 하나를 입력하세요:\")\n",
    "b = random.randint(1,3)\n",
    "c= '당신은{}컴퓨터는{}을 선택했습니다'.format(a,b)\n",
    "print(c)"
   ]
  },
  {
   "cell_type": "code",
   "execution_count": null,
   "metadata": {},
   "outputs": [],
   "source": [
    "val = 45\n",
    "if val%2 ==0:\n",
    "    print('짝수입니다')\n",
    "else:\n",
    "    print('홀수입니다')"
   ]
  },
  {
   "cell_type": "code",
   "execution_count": null,
   "metadata": {},
   "outputs": [],
   "source": [
    "#소수인지 아닌지 판별하여 출력하기\n",
    "\n",
    "a = input(\"숫자를 입력하세요\")\n",
    "b = int(a)\n",
    "\n",
    "\n",
    "for i in range(2,b-1,1):\n",
    "    if(b%i == 0):\n",
    "        c = False\n",
    "        break\n",
    "    else:\n",
    "        c = True\n",
    "        \n",
    "if(c == True):\n",
    "    print(\"소수입니다\")\n",
    "    \n",
    "if(c == False):\n",
    "    print(\"소수가 아닙니다\")"
   ]
  },
  {
   "cell_type": "code",
   "execution_count": null,
   "metadata": {},
   "outputs": [],
   "source": [
    "#에라토스테네스의 접근 : 주어진 자연수 N이 소수이기 위한 필요충분 조건은 '자연수 N의 제곱근보다 크지않은 어떤 수로도 나눠지지 않는다' 이다\n",
    "#수가 수를 나누면 몫이 발생하게 되는데 몫과 나누는 수, 둘 중 하나는 반드시 N의 제곱근 이하이기 때문이다\n",
    "# -> 다시해보장\n",
    "import math\n",
    "\n",
    "a = input(\"숫자를 입력하세요\")\n",
    "b = int(a)\n",
    "\n",
    "for i in range(2,int(math.sqrt(b)),1):\n",
    "    if(b%i==0):\n",
    "        c = False\n",
    "    else:\n",
    "        c = True\n",
    "        \n",
    "        \n",
    "if(c == True):\n",
    "    print(\"소수입니다\")\n",
    "    \n",
    "if(c == False):\n",
    "    print(\"소수가 아닙니다\")"
   ]
  },
  {
   "cell_type": "code",
   "execution_count": null,
   "metadata": {},
   "outputs": [],
   "source": [
    "##문자가 n이면 프로그램 종료 아니면 입력된 문자가 출력되는거 만들어봐\n",
    "\n",
    "    \n",
    "while(1):\n",
    "    a=input(\"아무거나 입력하세요\")\n",
    "    if(a == 'n'):\n",
    "        break\n",
    "    else:\n",
    "        pass\n",
    "    \n",
    "    print(a)"
   ]
  },
  {
   "cell_type": "code",
   "execution_count": null,
   "metadata": {},
   "outputs": [],
   "source": [
    "# 에라토스테네스의 체\n",
    "\n",
    "def prime_list(n):\n",
    "    # 에라토스테네스의 체 초기화: n개 요소에 True 설정(소수로 간주)\n",
    "    sieve = [True] * n\n",
    "\n",
    "    # n의 최대 약수가 sqrt(n) 이하이므로 i=sqrt(n)까지 검사\n",
    "    m = int(n ** 0.5)\n",
    "    for i in range(2, m + 1):\n",
    "        if sieve[i] == True:           # i가 소수인 경우 \n",
    "            for j in range(i+i, n, i): # i이후 i의 배수들을 False 판정\n",
    "                sieve[j] = False\n",
    "\n",
    "    # 소수 목록 산출\n",
    "    return [i for i in range(2, n) if sieve[i] == True]"
   ]
  },
  {
   "cell_type": "code",
   "execution_count": null,
   "metadata": {},
   "outputs": [],
   "source": [
    "prime_list(20)"
   ]
  },
  {
   "cell_type": "code",
   "execution_count": null,
   "metadata": {},
   "outputs": [],
   "source": [
    "#양의 정수 하나를 입력받고, 입력 받은 양의 정수보다 작거나 같은 \n",
    "#모든 정수의 합 출력하기\n",
    "\n",
    "a = input(\"양의 정수를 입력하세요\")\n",
    "b = int(a)\n",
    "c = 0\n",
    "for i in range(1,b+1):\n",
    "    c=c+i\n",
    "        \n",
    "print(c)"
   ]
  },
  {
   "cell_type": "code",
   "execution_count": null,
   "metadata": {},
   "outputs": [],
   "source": [
    "#양의 정수 하나를 입력받고, \n",
    "#입력받은 양의 정수보다 작거나 같은 소수들의 합 구하기\n",
    "\n",
    "a = input(\"양의 정수 하나를 입력하세요\")\n",
    "b = int(a)\n",
    "c = 0\n",
    "for i in range(2,b+1):\n",
    "    flag = True\n",
    "    for j in range(2,i):\n",
    "        if(i%j==0):\n",
    "            flag = False\n",
    "            break\n",
    "    if(flag==True):\n",
    "        c=c+i\n",
    "\n",
    "            \n",
    "        \n",
    "        \n",
    "        \n",
    "print(c)"
   ]
  },
  {
   "cell_type": "code",
   "execution_count": null,
   "metadata": {},
   "outputs": [],
   "source": [
    "#양의 정수 하나를 입력받고,\n",
    "#입력 받는 정수의 약수 출력하기\n",
    "\n",
    "a = input(\"양의 정수 하나를 입력해주세요\")\n",
    "b = int(a)\n",
    "c = []\n",
    "for i in range(1,b+1):\n",
    "    if(b%i==0):\n",
    "        c.append(i)\n",
    "\n",
    "print(c)\n",
    "        "
   ]
  },
  {
   "cell_type": "markdown",
   "metadata": {},
   "source": []
  },
  {
   "cell_type": "code",
   "execution_count": null,
   "metadata": {},
   "outputs": [],
   "source": [
    "#컴퓨터가 1부터 100까지의 정수 중 하나를 랜덤하게 선택\n",
    "\n",
    "#사용자로부터 정수를 하나 입력받고 위의 선택된 정수와 비교\n",
    "\n",
    "#사용자가 큰값을 입력했으면 '더작은 값입니다'를 출력 후 다시 입력받기\n",
    "\n",
    "#사용자가 작은 값을 입력했으면 '더 큰 값입니다'를 출력 후 다시 입력받기\n",
    "\n",
    "#두 정수가 같은 값이면 'x번째 시도에 맞추었습니다.'를 출력 후 종료\n",
    "\n",
    "#esudoz@naver.com로 보내세용\n",
    "\n",
    "import random\n",
    "\n",
    "c = random.randint(1,100)\n",
    "d = 0\n",
    "while(1):\n",
    "    a = input(\"정수를 하나 입력하세요\")\n",
    "    b = int(a)\n",
    "    if(b>c):\n",
    "        d+=1\n",
    "        print('더 작은 값입니다')\n",
    "        pass\n",
    "    if(b<c):\n",
    "        d+=1\n",
    "        print('더 큰 값입니다')\n",
    "        pass\n",
    "    if(b==c):\n",
    "        d+=1\n",
    "        p = '{}번째 시도에 맞추었습니다.'.format(d)\n",
    "        print(p)\n",
    "        break\n"
   ]
  },
  {
   "cell_type": "code",
   "execution_count": null,
   "metadata": {},
   "outputs": [],
   "source": [
    "# 1~43까지 정수 중 임의로 6개 값을 선택하여 출력 (중복된 값이 없어야함)\n",
    "import random\n",
    "\n",
    "list =[]\n",
    "a = random.randint(1,43)\n",
    "for i in range(6):\n",
    "    while a in list:\n",
    "        a = random.randint(1,43)\n",
    "    list.append(a)\n",
    "    \n",
    "print(list)\n",
    "        \n",
    "\n",
    "\n"
   ]
  },
  {
   "cell_type": "code",
   "execution_count": null,
   "metadata": {},
   "outputs": [],
   "source": [
    "#문자열을 입력받아 그안에서 a가 몇개나 들어있는지 출력\n",
    "\n",
    "a = input(\"문자열을 입력하세요\")\n",
    "c = 0\n",
    "\n",
    "\n",
    "for i in range(len(a)):\n",
    "    if(a[i]=='a'):\n",
    "        c+=1\n",
    "        \n",
    "print(c)\n",
    "\n"
   ]
  },
  {
   "cell_type": "code",
   "execution_count": null,
   "metadata": {},
   "outputs": [],
   "source": [
    "a = input(\"문자열을 입력하세요\")\n",
    "print(a.count('a'))"
   ]
  },
  {
   "cell_type": "code",
   "execution_count": null,
   "metadata": {},
   "outputs": [],
   "source": [
    "str1 = 'abcdefg'\n",
    "str2 = str1[0:3]\n",
    "print(str2)"
   ]
  },
  {
   "cell_type": "code",
   "execution_count": null,
   "metadata": {},
   "outputs": [],
   "source": [
    "#가계부만들기\n",
    "janack = 1000000\n",
    "list1=[]\n",
    "list2=[]\n",
    "list3=[]\n",
    "list4=[]\n",
    "while(1):\n",
    "    print('현재잔액은 {}입니다'.format(janack))\n",
    "    jakup = input(\"원하는 작업 번호를 입력하세요(지출:1, 수입:2, 내역보기:3, 종료:q)\")\n",
    "    if(jakup == '1'):\n",
    "        r = input(\"지출 내역:\")\n",
    "        p = input(\"지출 금액:\")\n",
    "        i_p = int(p)\n",
    "        janack = janack - i_p\n",
    "        list1.append(r)\n",
    "        list2.append(p)\n",
    "        print('========================')\n",
    "        pass\n",
    "    if(jakup == '2'):\n",
    "        s = input(\"수입 내역\")\n",
    "        q = input(\"수입 금액\")\n",
    "        i_q = int(q)\n",
    "        janack = janack + i_q\n",
    "        list3.append(s)\n",
    "        list4.append(q)\n",
    "        print('========================')\n",
    "        pass\n",
    "    if(jakup == '3'):\n",
    "        print(\"지금까지 기입된 내용은 다음과 같습니다.\")\n",
    "        for v,w in zip(list1,list2):\n",
    "            print('[지출]{}: {}'.format(v,w))\n",
    "        for x,y in zip(list3,list4):\n",
    "            print('[수입]{}: {}'.format(x,y))\n",
    "        print('========================')\n",
    "    if(jakup == 'q'):\n",
    "        print(\"가계부를 종료합니다.\")\n",
    "        break\n",
    "        \n",
    "    \n",
    "    \n",
    "\n",
    "    \n"
   ]
  },
  {
   "cell_type": "code",
   "execution_count": null,
   "metadata": {},
   "outputs": [],
   "source": [
    "a = [1,2,3,4,5]\n",
    "b = a\n",
    "b[2] = 7\n",
    "print(a[2])"
   ]
  },
  {
   "cell_type": "code",
   "execution_count": null,
   "metadata": {},
   "outputs": [],
   "source": [
    "# 양의 정수를 입력받고, 입력받은 정수보다 작거나 같은 모든 소수를 리스트로 만들어라\n",
    "\n",
    "a = input(\"양의 정수를 입력하세요\")\n",
    "b = int(a)\n",
    "\n",
    "list = []\n",
    "for i in range(2,b+1):\n",
    "    flag = True\n",
    "    for j in range(2,i):\n",
    "        if(i%j==0):\n",
    "            flag = False\n",
    "            break\n",
    "    if(flag == True):\n",
    "        list.append(i)\n",
    "        \n",
    "print(list)\n"
   ]
  },
  {
   "cell_type": "code",
   "execution_count": null,
   "metadata": {},
   "outputs": [],
   "source": [
    "#피보나치수열\n",
    "\n",
    "list3 = [1,1]\n",
    "\n",
    "while len(list3)!=20:\n",
    "    list3.append(list3[-1] + list3[-2])\n",
    "    \n",
    "print(list3)"
   ]
  },
  {
   "cell_type": "code",
   "execution_count": null,
   "metadata": {},
   "outputs": [],
   "source": [
    "list1 = list(range(1,44))\n",
    "print(list1)"
   ]
  },
  {
   "cell_type": "code",
   "execution_count": null,
   "metadata": {},
   "outputs": [],
   "source": [
    "list1 = [1,3,6,10,68]\n",
    "list2 = []\n",
    "for i in range(len(list1)):\n",
    "    list2.append(list1[i]*list1[i])\n",
    "    \n",
    "print(list2)"
   ]
  },
  {
   "cell_type": "code",
   "execution_count": null,
   "metadata": {},
   "outputs": [],
   "source": [
    "list1 = [1,3,6,10,68]\n",
    "list2 = []\n",
    "for i in list1:\n",
    "    list2.append(i*i)\n",
    "    \n",
    "print(list2)"
   ]
  },
  {
   "cell_type": "code",
   "execution_count": null,
   "metadata": {},
   "outputs": [],
   "source": [
    "# 0~20까지의 정수중 임의로 10개를 가져와서 정렬하는 코드를 만들어보자.\n",
    "# 만들었으면, 이제 추가로 20개를 더 가져와서 두 리스트를 합쳐서 하나의 리스트로\n",
    "# 만들고, 그 안에서 숫자 7 이 몇개인지 세어보자.\n",
    "\n",
    "import random\n",
    "\n",
    "list1 = []\n",
    "list2 = []\n",
    "list3 = []\n",
    "c = 0\n",
    "\n",
    "for i in range(10):\n",
    "    a= random.randint(0,20)\n",
    "    list1.append(a)\n",
    "list1.sort()\n",
    "    \n",
    "for j in range(20):\n",
    "    a = random.randint(0,20)\n",
    "    list2.append(a)\n",
    "    \n",
    "list3 = list1+list2\n",
    "print(len(list3))\n",
    "\n",
    "for z in range(len(list3)):\n",
    "    if list3[z] == 7:\n",
    "        c=c+1\n",
    "        \n",
    "print(c)\n",
    "    \n",
    "    \n",
    "    "
   ]
  },
  {
   "cell_type": "code",
   "execution_count": null,
   "metadata": {},
   "outputs": [],
   "source": [
    "a = 15\n",
    "b = 20\n",
    "\n",
    "temp = a\n",
    "\n",
    "a = b\n",
    "\n",
    "b = temp\n",
    "\n",
    "print(a,b)"
   ]
  },
  {
   "cell_type": "code",
   "execution_count": null,
   "metadata": {},
   "outputs": [],
   "source": [
    "#숫자야구게임"
   ]
  },
  {
   "cell_type": "code",
   "execution_count": null,
   "metadata": {},
   "outputs": [],
   "source": []
  },
  {
   "cell_type": "code",
   "execution_count": null,
   "metadata": {},
   "outputs": [],
   "source": []
  },
  {
   "cell_type": "code",
   "execution_count": null,
   "metadata": {},
   "outputs": [],
   "source": []
  },
  {
   "cell_type": "code",
   "execution_count": null,
   "metadata": {},
   "outputs": [],
   "source": []
  },
  {
   "cell_type": "code",
   "execution_count": null,
   "metadata": {},
   "outputs": [],
   "source": []
  },
  {
   "cell_type": "code",
   "execution_count": null,
   "metadata": {},
   "outputs": [],
   "source": []
  }
 ],
 "metadata": {
  "kernelspec": {
   "display_name": "Python 3",
   "language": "python",
   "name": "python3"
  },
  "language_info": {
   "codemirror_mode": {
    "name": "ipython",
    "version": 3
   },
   "file_extension": ".py",
   "mimetype": "text/x-python",
   "name": "python",
   "nbconvert_exporter": "python",
   "pygments_lexer": "ipython3",
   "version": "3.6.8"
  }
 },
 "nbformat": 4,
 "nbformat_minor": 2
}
